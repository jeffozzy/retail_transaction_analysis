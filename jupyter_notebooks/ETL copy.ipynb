{
  "cells": [
    {
      "cell_type": "markdown",
      "metadata": {
        "id": "0aStgWSO0E0E"
      },
      "source": [
        "# **Online Retail Transactions**"
      ]
    },
    {
      "cell_type": "markdown",
      "metadata": {
        "id": "1eLEkw5O0ECa"
      },
      "source": [
        "## Objectives\n",
        "\n",
        "* Analyse customer behaviour and preferences, identify popular products, and optimise pricing and marketing strategies.\n",
        "\n",
        "## Inputs\n",
        "\n",
        "* Data Source:  https://www.kaggle.com/datasets/abhishekrp1517/online-retail-transactions-dataset/data\n",
        "\n",
        "## Outputs\n",
        "\n",
        "* A Jupyter Noteboo file (ETL.ipynb) to show the analysis of data\n",
        "* Code that advises on how to Optimze pricing and predicts possible succesful marketing strategies\n",
        "\n",
        "\n",
        "\n"
      ]
    },
    {
      "cell_type": "markdown",
      "metadata": {
        "id": "9uWZXH9LwoQg"
      },
      "source": [
        "---"
      ]
    },
    {
      "cell_type": "markdown",
      "metadata": {
        "id": "cqP-UeN-z3i2"
      },
      "source": [
        "# Working directory"
      ]
    },
    {
      "cell_type": "markdown",
      "metadata": {},
      "source": [
        "* Changed the working directory from its current folder to its parent folder"
      ]
    },
    {
      "cell_type": "markdown",
      "metadata": {
        "id": "aOGIGS-uz3i2"
      },
      "source": [
        "\n",
        "* Access the current directory with os.getcwd()"
      ]
    },
    {
      "cell_type": "code",
      "execution_count": 4,
      "metadata": {
        "id": "wZfF_j-Bz3i4",
        "outputId": "66943449-1436-4c3d-85c7-b85f9f78349b"
      },
      "outputs": [
        {
          "data": {
            "text/plain": [
              "'c:\\\\Users\\\\jeff .LAPTOP-IGU6VVPB\\\\Desktop\\\\Code institute\\\\vscode-projects\\\\hackathon 1\\\\retail_transaction_analysis\\\\jupyter_notebooks'"
            ]
          },
          "execution_count": 4,
          "metadata": {},
          "output_type": "execute_result"
        }
      ],
      "source": [
        "import os\n",
        "current_dir = os.getcwd()\n",
        "current_dir"
      ]
    },
    {
      "cell_type": "markdown",
      "metadata": {
        "id": "9MWW8E7lz3i7"
      },
      "source": [
        "We want to make the parent of the current directory the new current directory\n",
        "* os.path.dirname() gets the parent directory\n",
        "* os.chir() defines the new current directory"
      ]
    },
    {
      "cell_type": "code",
      "execution_count": 5,
      "metadata": {
        "id": "TwHsQRWjz3i9",
        "outputId": "86849db3-cd2f-4cc5-ebb8-2d0caafa1a2c"
      },
      "outputs": [
        {
          "name": "stdout",
          "output_type": "stream",
          "text": [
            "You set a new current directory\n"
          ]
        }
      ],
      "source": [
        "os.chdir(os.path.dirname(current_dir))\n",
        "print(\"You set a new current directory\")"
      ]
    },
    {
      "cell_type": "markdown",
      "metadata": {
        "id": "M_xPk_Ijz3i-"
      },
      "source": [
        "Confirm the new current directory"
      ]
    },
    {
      "cell_type": "code",
      "execution_count": 6,
      "metadata": {
        "id": "vz3S-_kjz3jA",
        "outputId": "00b79ae4-75d0-4a96-d193-ac9ef9847ea2"
      },
      "outputs": [
        {
          "data": {
            "text/plain": [
              "'c:\\\\Users\\\\jeff .LAPTOP-IGU6VVPB\\\\Desktop\\\\Code institute\\\\vscode-projects\\\\hackathon 1\\\\retail_transaction_analysis'"
            ]
          },
          "execution_count": 6,
          "metadata": {},
          "output_type": "execute_result"
        }
      ],
      "source": [
        "current_dir = os.getcwd()\n",
        "current_dir"
      ]
    },
    {
      "cell_type": "markdown",
      "metadata": {
        "id": "-mavJ8DibrcQ"
      },
      "source": [
        "# Data Extraction, Transformation, and Loading (ETL)"
      ]
    },
    {
      "cell_type": "markdown",
      "metadata": {},
      "source": [
        "Importing packages"
      ]
    },
    {
      "cell_type": "code",
      "execution_count": 7,
      "metadata": {},
      "outputs": [],
      "source": [
        "#Setting up & Importing packages\n",
        "\n",
        "import matplotlib.pyplot as plt\n",
        "import seaborn as sns\n",
        "import pandas as pd\n",
        "sns.set_style('whitegrid')\n",
        "from sklearn.pipeline import Pipeline\n",
        "import plotly.express as px"
      ]
    },
    {
      "cell_type": "markdown",
      "metadata": {},
      "source": [
        "* Extracting the data"
      ]
    },
    {
      "cell_type": "code",
      "execution_count": 10,
      "metadata": {},
      "outputs": [],
      "source": [
        "#loading the data\n",
        "df = pd.read_csv('jupyter_notebooks/Online Retail.csv')\n",
        "df_copy = df.copy()"
      ]
    },
    {
      "cell_type": "markdown",
      "metadata": {
        "id": "ZY3l0-AxO93d"
      },
      "source": [
        "---"
      ]
    },
    {
      "cell_type": "markdown",
      "metadata": {
        "id": "uFQo3ycuO-v6"
      },
      "source": [
        "* Cleaning the data"
      ]
    },
    {
      "cell_type": "markdown",
      "metadata": {},
      "source": [
        "Section 2 content"
      ]
    },
    {
      "cell_type": "code",
      "execution_count": 11,
      "metadata": {},
      "outputs": [
        {
          "data": {
            "text/html": [
              "<div>\n",
              "<style scoped>\n",
              "    .dataframe tbody tr th:only-of-type {\n",
              "        vertical-align: middle;\n",
              "    }\n",
              "\n",
              "    .dataframe tbody tr th {\n",
              "        vertical-align: top;\n",
              "    }\n",
              "\n",
              "    .dataframe thead th {\n",
              "        text-align: right;\n",
              "    }\n",
              "</style>\n",
              "<table border=\"1\" class=\"dataframe\">\n",
              "  <thead>\n",
              "    <tr style=\"text-align: right;\">\n",
              "      <th></th>\n",
              "      <th>InvoiceNo</th>\n",
              "      <th>StockCode</th>\n",
              "      <th>Description</th>\n",
              "      <th>Quantity</th>\n",
              "      <th>InvoiceDate</th>\n",
              "      <th>UnitPrice</th>\n",
              "      <th>CustomerID</th>\n",
              "      <th>Country</th>\n",
              "    </tr>\n",
              "  </thead>\n",
              "  <tbody>\n",
              "    <tr>\n",
              "      <th>0</th>\n",
              "      <td>536365</td>\n",
              "      <td>85123A</td>\n",
              "      <td>WHITE HANGING HEART T-LIGHT HOLDER</td>\n",
              "      <td>6</td>\n",
              "      <td>2010-12-01 08:26:00</td>\n",
              "      <td>2.55</td>\n",
              "      <td>17850</td>\n",
              "      <td>United Kingdom</td>\n",
              "    </tr>\n",
              "    <tr>\n",
              "      <th>1</th>\n",
              "      <td>536365</td>\n",
              "      <td>71053</td>\n",
              "      <td>WHITE METAL LANTERN</td>\n",
              "      <td>6</td>\n",
              "      <td>2010-12-01 08:26:00</td>\n",
              "      <td>3.39</td>\n",
              "      <td>17850</td>\n",
              "      <td>United Kingdom</td>\n",
              "    </tr>\n",
              "    <tr>\n",
              "      <th>2</th>\n",
              "      <td>536365</td>\n",
              "      <td>84406B</td>\n",
              "      <td>CREAM CUPID HEARTS COAT HANGER</td>\n",
              "      <td>8</td>\n",
              "      <td>2010-12-01 08:26:00</td>\n",
              "      <td>2.75</td>\n",
              "      <td>17850</td>\n",
              "      <td>United Kingdom</td>\n",
              "    </tr>\n",
              "    <tr>\n",
              "      <th>3</th>\n",
              "      <td>536365</td>\n",
              "      <td>84029G</td>\n",
              "      <td>KNITTED UNION FLAG HOT WATER BOTTLE</td>\n",
              "      <td>6</td>\n",
              "      <td>2010-12-01 08:26:00</td>\n",
              "      <td>3.39</td>\n",
              "      <td>17850</td>\n",
              "      <td>United Kingdom</td>\n",
              "    </tr>\n",
              "    <tr>\n",
              "      <th>4</th>\n",
              "      <td>536365</td>\n",
              "      <td>84029E</td>\n",
              "      <td>RED WOOLLY HOTTIE WHITE HEART.</td>\n",
              "      <td>6</td>\n",
              "      <td>2010-12-01 08:26:00</td>\n",
              "      <td>3.39</td>\n",
              "      <td>17850</td>\n",
              "      <td>United Kingdom</td>\n",
              "    </tr>\n",
              "  </tbody>\n",
              "</table>\n",
              "</div>"
            ],
            "text/plain": [
              "  InvoiceNo StockCode                          Description  Quantity  \\\n",
              "0    536365    85123A   WHITE HANGING HEART T-LIGHT HOLDER         6   \n",
              "1    536365     71053                  WHITE METAL LANTERN         6   \n",
              "2    536365    84406B       CREAM CUPID HEARTS COAT HANGER         8   \n",
              "3    536365    84029G  KNITTED UNION FLAG HOT WATER BOTTLE         6   \n",
              "4    536365    84029E       RED WOOLLY HOTTIE WHITE HEART.         6   \n",
              "\n",
              "           InvoiceDate  UnitPrice  CustomerID         Country  \n",
              "0  2010-12-01 08:26:00       2.55       17850  United Kingdom  \n",
              "1  2010-12-01 08:26:00       3.39       17850  United Kingdom  \n",
              "2  2010-12-01 08:26:00       2.75       17850  United Kingdom  \n",
              "3  2010-12-01 08:26:00       3.39       17850  United Kingdom  \n",
              "4  2010-12-01 08:26:00       3.39       17850  United Kingdom  "
            ]
          },
          "execution_count": 11,
          "metadata": {},
          "output_type": "execute_result"
        }
      ],
      "source": [
        "df_copy.head()"
      ]
    },
    {
      "cell_type": "markdown",
      "metadata": {},
      "source": [
        "---"
      ]
    },
    {
      "cell_type": "code",
      "execution_count": 13,
      "metadata": {},
      "outputs": [
        {
          "data": {
            "text/plain": [
              "InvoiceNo         0\n",
              "StockCode         0\n",
              "Description    1454\n",
              "Quantity          0\n",
              "InvoiceDate       0\n",
              "UnitPrice         0\n",
              "CustomerID        0\n",
              "Country           0\n",
              "dtype: int64"
            ]
          },
          "execution_count": 13,
          "metadata": {},
          "output_type": "execute_result"
        }
      ],
      "source": [
        "df_copy.isnull().sum()"
      ]
    },
    {
      "cell_type": "code",
      "execution_count": null,
      "metadata": {},
      "outputs": [
        {
          "name": "stderr",
          "output_type": "stream",
          "text": [
            "C:\\Users\\jeff .LAPTOP-IGU6VVPB\\AppData\\Local\\Temp\\ipykernel_12404\\293228325.py:1: FutureWarning: Series.fillna with 'method' is deprecated and will raise in a future version. Use obj.ffill() or obj.bfill() instead.\n",
            "  df_copy['Description'] = df_copy.groupby('StockCode')['Description'].transform(lambda x: x.fillna(method='ffill').fillna(method='bfill'))\n"
          ]
        }
      ],
      "source": [
        "#Fill missing Description values using StockCode group where it is possible\n",
        "\n",
        "df_copy['Description'] = df_copy.groupby('StockCode')['Description'].transform(lambda x: x.fillna(method='ffill').fillna(method='bfill'))\n"
      ]
    },
    {
      "cell_type": "code",
      "execution_count": null,
      "metadata": {},
      "outputs": [
        {
          "data": {
            "text/plain": [
              "112"
            ]
          },
          "execution_count": 17,
          "metadata": {},
          "output_type": "execute_result"
        }
      ],
      "source": [
        "#check if there are still missing values in Description\n",
        "df_copy['Description'].isnull().sum()"
      ]
    },
    {
      "cell_type": "code",
      "execution_count": null,
      "metadata": {},
      "outputs": [
        {
          "data": {
            "text/html": [
              "<div>\n",
              "<style scoped>\n",
              "    .dataframe tbody tr th:only-of-type {\n",
              "        vertical-align: middle;\n",
              "    }\n",
              "\n",
              "    .dataframe tbody tr th {\n",
              "        vertical-align: top;\n",
              "    }\n",
              "\n",
              "    .dataframe thead th {\n",
              "        text-align: right;\n",
              "    }\n",
              "</style>\n",
              "<table border=\"1\" class=\"dataframe\">\n",
              "  <thead>\n",
              "    <tr style=\"text-align: right;\">\n",
              "      <th></th>\n",
              "      <th>InvoiceNo</th>\n",
              "      <th>StockCode</th>\n",
              "      <th>Description</th>\n",
              "      <th>Quantity</th>\n",
              "      <th>InvoiceDate</th>\n",
              "      <th>UnitPrice</th>\n",
              "      <th>CustomerID</th>\n",
              "      <th>Country</th>\n",
              "    </tr>\n",
              "  </thead>\n",
              "  <tbody>\n",
              "    <tr>\n",
              "      <th>1970</th>\n",
              "      <td>536545</td>\n",
              "      <td>21134</td>\n",
              "      <td>NaN</td>\n",
              "      <td>1</td>\n",
              "      <td>2010-12-01 14:32:00</td>\n",
              "      <td>0.0</td>\n",
              "      <td>15287</td>\n",
              "      <td>United Kingdom</td>\n",
              "    </tr>\n",
              "    <tr>\n",
              "      <th>1987</th>\n",
              "      <td>536549</td>\n",
              "      <td>85226A</td>\n",
              "      <td>NaN</td>\n",
              "      <td>1</td>\n",
              "      <td>2010-12-01 14:34:00</td>\n",
              "      <td>0.0</td>\n",
              "      <td>15287</td>\n",
              "      <td>United Kingdom</td>\n",
              "    </tr>\n",
              "    <tr>\n",
              "      <th>1988</th>\n",
              "      <td>536550</td>\n",
              "      <td>85044</td>\n",
              "      <td>NaN</td>\n",
              "      <td>1</td>\n",
              "      <td>2010-12-01 14:34:00</td>\n",
              "      <td>0.0</td>\n",
              "      <td>15287</td>\n",
              "      <td>United Kingdom</td>\n",
              "    </tr>\n",
              "    <tr>\n",
              "      <th>2024</th>\n",
              "      <td>536552</td>\n",
              "      <td>20950</td>\n",
              "      <td>NaN</td>\n",
              "      <td>1</td>\n",
              "      <td>2010-12-01 14:34:00</td>\n",
              "      <td>0.0</td>\n",
              "      <td>15287</td>\n",
              "      <td>United Kingdom</td>\n",
              "    </tr>\n",
              "    <tr>\n",
              "      <th>2026</th>\n",
              "      <td>536554</td>\n",
              "      <td>84670</td>\n",
              "      <td>NaN</td>\n",
              "      <td>23</td>\n",
              "      <td>2010-12-01 14:35:00</td>\n",
              "      <td>0.0</td>\n",
              "      <td>15287</td>\n",
              "      <td>United Kingdom</td>\n",
              "    </tr>\n",
              "    <tr>\n",
              "      <th>...</th>\n",
              "      <td>...</td>\n",
              "      <td>...</td>\n",
              "      <td>...</td>\n",
              "      <td>...</td>\n",
              "      <td>...</td>\n",
              "      <td>...</td>\n",
              "      <td>...</td>\n",
              "      <td>...</td>\n",
              "    </tr>\n",
              "    <tr>\n",
              "      <th>280754</th>\n",
              "      <td>561498</td>\n",
              "      <td>21610</td>\n",
              "      <td>NaN</td>\n",
              "      <td>-14</td>\n",
              "      <td>2011-07-27 14:10:00</td>\n",
              "      <td>0.0</td>\n",
              "      <td>15287</td>\n",
              "      <td>United Kingdom</td>\n",
              "    </tr>\n",
              "    <tr>\n",
              "      <th>281615</th>\n",
              "      <td>561555</td>\n",
              "      <td>37477B</td>\n",
              "      <td>NaN</td>\n",
              "      <td>-11</td>\n",
              "      <td>2011-07-28 10:21:00</td>\n",
              "      <td>0.0</td>\n",
              "      <td>15287</td>\n",
              "      <td>United Kingdom</td>\n",
              "    </tr>\n",
              "    <tr>\n",
              "      <th>281616</th>\n",
              "      <td>561557</td>\n",
              "      <td>37477C</td>\n",
              "      <td>NaN</td>\n",
              "      <td>-31</td>\n",
              "      <td>2011-07-28 10:21:00</td>\n",
              "      <td>0.0</td>\n",
              "      <td>15287</td>\n",
              "      <td>United Kingdom</td>\n",
              "    </tr>\n",
              "    <tr>\n",
              "      <th>346849</th>\n",
              "      <td>567207</td>\n",
              "      <td>35592T</td>\n",
              "      <td>NaN</td>\n",
              "      <td>4</td>\n",
              "      <td>2011-09-19 11:01:00</td>\n",
              "      <td>0.0</td>\n",
              "      <td>15287</td>\n",
              "      <td>United Kingdom</td>\n",
              "    </tr>\n",
              "    <tr>\n",
              "      <th>497301</th>\n",
              "      <td>578360</td>\n",
              "      <td>84971L</td>\n",
              "      <td>NaN</td>\n",
              "      <td>2</td>\n",
              "      <td>2011-11-24 10:36:00</td>\n",
              "      <td>0.0</td>\n",
              "      <td>15287</td>\n",
              "      <td>United Kingdom</td>\n",
              "    </tr>\n",
              "  </tbody>\n",
              "</table>\n",
              "<p>112 rows × 8 columns</p>\n",
              "</div>"
            ],
            "text/plain": [
              "       InvoiceNo StockCode Description  Quantity          InvoiceDate  \\\n",
              "1970      536545     21134         NaN         1  2010-12-01 14:32:00   \n",
              "1987      536549    85226A         NaN         1  2010-12-01 14:34:00   \n",
              "1988      536550     85044         NaN         1  2010-12-01 14:34:00   \n",
              "2024      536552     20950         NaN         1  2010-12-01 14:34:00   \n",
              "2026      536554     84670         NaN        23  2010-12-01 14:35:00   \n",
              "...          ...       ...         ...       ...                  ...   \n",
              "280754    561498     21610         NaN       -14  2011-07-27 14:10:00   \n",
              "281615    561555    37477B         NaN       -11  2011-07-28 10:21:00   \n",
              "281616    561557    37477C         NaN       -31  2011-07-28 10:21:00   \n",
              "346849    567207    35592T         NaN         4  2011-09-19 11:01:00   \n",
              "497301    578360    84971L         NaN         2  2011-11-24 10:36:00   \n",
              "\n",
              "        UnitPrice  CustomerID         Country  \n",
              "1970          0.0       15287  United Kingdom  \n",
              "1987          0.0       15287  United Kingdom  \n",
              "1988          0.0       15287  United Kingdom  \n",
              "2024          0.0       15287  United Kingdom  \n",
              "2026          0.0       15287  United Kingdom  \n",
              "...           ...         ...             ...  \n",
              "280754        0.0       15287  United Kingdom  \n",
              "281615        0.0       15287  United Kingdom  \n",
              "281616        0.0       15287  United Kingdom  \n",
              "346849        0.0       15287  United Kingdom  \n",
              "497301        0.0       15287  United Kingdom  \n",
              "\n",
              "[112 rows x 8 columns]"
            ]
          },
          "execution_count": 18,
          "metadata": {},
          "output_type": "execute_result"
        }
      ],
      "source": [
        "#View rows where Description is still missing\n",
        "missing_description_rows = df_copy[df_copy['Description'].isnull()]\n",
        "missing_description_rows"
      ]
    },
    {
      "cell_type": "code",
      "execution_count": null,
      "metadata": {},
      "outputs": [
        {
          "name": "stderr",
          "output_type": "stream",
          "text": [
            "<>:1: SyntaxWarning: invalid escape sequence '\\?'\n",
            "<>:1: SyntaxWarning: invalid escape sequence '\\?'\n",
            "C:\\Users\\jeff .LAPTOP-IGU6VVPB\\AppData\\Local\\Temp\\ipykernel_12404\\3318850241.py:1: SyntaxWarning: invalid escape sequence '\\?'\n",
            "  df_copy[df_copy['Description'].str.contains('\\?', na=False)]\n"
          ]
        },
        {
          "data": {
            "text/html": [
              "<div>\n",
              "<style scoped>\n",
              "    .dataframe tbody tr th:only-of-type {\n",
              "        vertical-align: middle;\n",
              "    }\n",
              "\n",
              "    .dataframe tbody tr th {\n",
              "        vertical-align: top;\n",
              "    }\n",
              "\n",
              "    .dataframe thead th {\n",
              "        text-align: right;\n",
              "    }\n",
              "</style>\n",
              "<table border=\"1\" class=\"dataframe\">\n",
              "  <thead>\n",
              "    <tr style=\"text-align: right;\">\n",
              "      <th></th>\n",
              "      <th>InvoiceNo</th>\n",
              "      <th>StockCode</th>\n",
              "      <th>Description</th>\n",
              "      <th>Quantity</th>\n",
              "      <th>InvoiceDate</th>\n",
              "      <th>UnitPrice</th>\n",
              "      <th>CustomerID</th>\n",
              "      <th>Country</th>\n",
              "    </tr>\n",
              "  </thead>\n",
              "  <tbody>\n",
              "    <tr>\n",
              "      <th>7313</th>\n",
              "      <td>537032</td>\n",
              "      <td>21275</td>\n",
              "      <td>?</td>\n",
              "      <td>-30</td>\n",
              "      <td>2010-12-03 16:50:00</td>\n",
              "      <td>0.0</td>\n",
              "      <td>15287</td>\n",
              "      <td>United Kingdom</td>\n",
              "    </tr>\n",
              "    <tr>\n",
              "      <th>21518</th>\n",
              "      <td>538090</td>\n",
              "      <td>20956</td>\n",
              "      <td>?</td>\n",
              "      <td>-723</td>\n",
              "      <td>2010-12-09 14:48:00</td>\n",
              "      <td>0.0</td>\n",
              "      <td>15287</td>\n",
              "      <td>United Kingdom</td>\n",
              "    </tr>\n",
              "    <tr>\n",
              "      <th>22295</th>\n",
              "      <td>538160</td>\n",
              "      <td>20956</td>\n",
              "      <td>?</td>\n",
              "      <td>288</td>\n",
              "      <td>2010-12-09 17:18:00</td>\n",
              "      <td>0.0</td>\n",
              "      <td>15287</td>\n",
              "      <td>United Kingdom</td>\n",
              "    </tr>\n",
              "    <tr>\n",
              "      <th>38261</th>\n",
              "      <td>539494</td>\n",
              "      <td>21479</td>\n",
              "      <td>?</td>\n",
              "      <td>752</td>\n",
              "      <td>2010-12-20 10:36:00</td>\n",
              "      <td>0.0</td>\n",
              "      <td>15287</td>\n",
              "      <td>United Kingdom</td>\n",
              "    </tr>\n",
              "    <tr>\n",
              "      <th>43662</th>\n",
              "      <td>540100</td>\n",
              "      <td>22837</td>\n",
              "      <td>?</td>\n",
              "      <td>-106</td>\n",
              "      <td>2011-01-04 16:53:00</td>\n",
              "      <td>0.0</td>\n",
              "      <td>15287</td>\n",
              "      <td>United Kingdom</td>\n",
              "    </tr>\n",
              "    <tr>\n",
              "      <th>...</th>\n",
              "      <td>...</td>\n",
              "      <td>...</td>\n",
              "      <td>...</td>\n",
              "      <td>...</td>\n",
              "      <td>...</td>\n",
              "      <td>...</td>\n",
              "      <td>...</td>\n",
              "      <td>...</td>\n",
              "    </tr>\n",
              "    <tr>\n",
              "      <th>514649</th>\n",
              "      <td>579734</td>\n",
              "      <td>84859C</td>\n",
              "      <td>wet?</td>\n",
              "      <td>-153</td>\n",
              "      <td>2011-11-30 14:25:00</td>\n",
              "      <td>0.0</td>\n",
              "      <td>15287</td>\n",
              "      <td>United Kingdom</td>\n",
              "    </tr>\n",
              "    <tr>\n",
              "      <th>514735</th>\n",
              "      <td>579742</td>\n",
              "      <td>85204</td>\n",
              "      <td>lost??</td>\n",
              "      <td>-1131</td>\n",
              "      <td>2011-11-30 14:34:00</td>\n",
              "      <td>0.0</td>\n",
              "      <td>15287</td>\n",
              "      <td>United Kingdom</td>\n",
              "    </tr>\n",
              "    <tr>\n",
              "      <th>524370</th>\n",
              "      <td>580547</td>\n",
              "      <td>21201</td>\n",
              "      <td>???</td>\n",
              "      <td>-390</td>\n",
              "      <td>2011-12-05 09:29:00</td>\n",
              "      <td>0.0</td>\n",
              "      <td>15287</td>\n",
              "      <td>United Kingdom</td>\n",
              "    </tr>\n",
              "    <tr>\n",
              "      <th>535324</th>\n",
              "      <td>581201</td>\n",
              "      <td>22217</td>\n",
              "      <td>damages?</td>\n",
              "      <td>-155</td>\n",
              "      <td>2011-12-07 18:30:00</td>\n",
              "      <td>0.0</td>\n",
              "      <td>15287</td>\n",
              "      <td>United Kingdom</td>\n",
              "    </tr>\n",
              "    <tr>\n",
              "      <th>535327</th>\n",
              "      <td>581204</td>\n",
              "      <td>85104</td>\n",
              "      <td>????damages????</td>\n",
              "      <td>-355</td>\n",
              "      <td>2011-12-07 18:32:00</td>\n",
              "      <td>0.0</td>\n",
              "      <td>15287</td>\n",
              "      <td>United Kingdom</td>\n",
              "    </tr>\n",
              "  </tbody>\n",
              "</table>\n",
              "<p>89 rows × 8 columns</p>\n",
              "</div>"
            ],
            "text/plain": [
              "       InvoiceNo StockCode      Description  Quantity          InvoiceDate  \\\n",
              "7313      537032     21275                ?       -30  2010-12-03 16:50:00   \n",
              "21518     538090     20956                ?      -723  2010-12-09 14:48:00   \n",
              "22295     538160     20956                ?       288  2010-12-09 17:18:00   \n",
              "38261     539494     21479                ?       752  2010-12-20 10:36:00   \n",
              "43662     540100     22837                ?      -106  2011-01-04 16:53:00   \n",
              "...          ...       ...              ...       ...                  ...   \n",
              "514649    579734    84859C             wet?      -153  2011-11-30 14:25:00   \n",
              "514735    579742     85204           lost??     -1131  2011-11-30 14:34:00   \n",
              "524370    580547     21201              ???      -390  2011-12-05 09:29:00   \n",
              "535324    581201     22217         damages?      -155  2011-12-07 18:30:00   \n",
              "535327    581204     85104  ????damages????      -355  2011-12-07 18:32:00   \n",
              "\n",
              "        UnitPrice  CustomerID         Country  \n",
              "7313          0.0       15287  United Kingdom  \n",
              "21518         0.0       15287  United Kingdom  \n",
              "22295         0.0       15287  United Kingdom  \n",
              "38261         0.0       15287  United Kingdom  \n",
              "43662         0.0       15287  United Kingdom  \n",
              "...           ...         ...             ...  \n",
              "514649        0.0       15287  United Kingdom  \n",
              "514735        0.0       15287  United Kingdom  \n",
              "524370        0.0       15287  United Kingdom  \n",
              "535324        0.0       15287  United Kingdom  \n",
              "535327        0.0       15287  United Kingdom  \n",
              "\n",
              "[89 rows x 8 columns]"
            ]
          },
          "execution_count": 19,
          "metadata": {},
          "output_type": "execute_result"
        }
      ],
      "source": [
        "#View rows with '?' in Description\n",
        "df_copy[df_copy['Description'].str.contains('\\?', na=False)]"
      ]
    },
    {
      "cell_type": "code",
      "execution_count": null,
      "metadata": {},
      "outputs": [],
      "source": [
        "#replace '?' in Description with an empty string\n",
        "\n",
        "df_copy['Description'] = df_copy['Description'].str.replace('?', '', regex=False)"
      ]
    },
    {
      "cell_type": "code",
      "execution_count": null,
      "metadata": {},
      "outputs": [],
      "source": [
        "#Remove rows with negative or zero Quantity\n",
        "\n",
        "df_copy = df_copy[df_copy['Quantity'] > 0]"
      ]
    },
    {
      "cell_type": "code",
      "execution_count": 27,
      "metadata": {},
      "outputs": [
        {
          "data": {
            "text/plain": [
              "15"
            ]
          },
          "execution_count": 27,
          "metadata": {},
          "output_type": "execute_result"
        }
      ],
      "source": [
        "df_copy['Description'].isnull().sum()"
      ]
    },
    {
      "cell_type": "code",
      "execution_count": null,
      "metadata": {},
      "outputs": [
        {
          "name": "stderr",
          "output_type": "stream",
          "text": [
            "c:\\Users\\jeff .LAPTOP-IGU6VVPB\\Desktop\\Code institute\\vscode-projects\\hackathon 1\\retail_transaction_analysis\\.venv\\Lib\\site-packages\\feature_engine\\imputation\\categorical.py:232: FutureWarning: is_categorical_dtype is deprecated and will be removed in a future version. Use isinstance(dtype, CategoricalDtype) instead\n",
            "  if pd.api.types.is_categorical_dtype(X[variable]):\n"
          ]
        }
      ],
      "source": [
        "#Create a Pipline to replace the missing values in the Description column with 'Missing'\n",
        "from feature_engine.imputation import CategoricalImputer\n",
        "\n",
        "pipeline = Pipeline([\n",
        "      ('replace description',  CategoricalImputer(imputation_method='missing',\n",
        "                                                   fill_value='No Description',\n",
        "                                                   variables=['Description']) )\n",
        "])\n",
        "\n",
        "#Fit and transform the pipeline on the dataframe\n",
        "df_copy = pipeline.fit_transform(df_copy)"
      ]
    },
    {
      "cell_type": "code",
      "execution_count": null,
      "metadata": {},
      "outputs": [
        {
          "data": {
            "text/plain": [
              "0"
            ]
          },
          "execution_count": 31,
          "metadata": {},
          "output_type": "execute_result"
        }
      ],
      "source": [
        "#Check if there are still any missing values in Description\n",
        "df_copy['Description'].isnull().sum()"
      ]
    },
    {
      "cell_type": "markdown",
      "metadata": {},
      "source": [
        "---"
      ]
    },
    {
      "cell_type": "markdown",
      "metadata": {},
      "source": [
        "* We want to View Data types and then change to appropriate data types for analysis"
      ]
    },
    {
      "cell_type": "code",
      "execution_count": 34,
      "metadata": {},
      "outputs": [
        {
          "data": {
            "text/plain": [
              "InvoiceNo       object\n",
              "StockCode       object\n",
              "Description     object\n",
              "Quantity         int64\n",
              "InvoiceDate     object\n",
              "UnitPrice      float64\n",
              "CustomerID       int64\n",
              "Country         object\n",
              "dtype: object"
            ]
          },
          "execution_count": 34,
          "metadata": {},
          "output_type": "execute_result"
        }
      ],
      "source": [
        "df_copy.dtypes"
      ]
    },
    {
      "cell_type": "code",
      "execution_count": null,
      "metadata": {},
      "outputs": [],
      "source": [
        "#Convert InvoiceDate to datetime format and CustomerID to object type\n",
        "df_copy['InvoiceDate'] = pd.to_datetime(df_copy['InvoiceDate'])\n",
        "\n",
        "df_copy['CustomerID'] = df_copy['CustomerID'].astype(object)"
      ]
    },
    {
      "cell_type": "markdown",
      "metadata": {},
      "source": [
        "# Undertsnading the data"
      ]
    },
    {
      "cell_type": "markdown",
      "metadata": {},
      "source": [
        "* First we find out the Country with the Most Orders"
      ]
    },
    {
      "cell_type": "code",
      "execution_count": null,
      "metadata": {},
      "outputs": [
        {
          "name": "stdout",
          "output_type": "stream",
          "text": [
            "Country\n",
            "United Kingdom    486286\n",
            "Germany             9042\n",
            "France              8408\n",
            "EIRE                7894\n",
            "Spain               2485\n",
            "Netherlands         2363\n",
            "Belgium             2031\n",
            "Switzerland         1967\n",
            "Portugal            1501\n",
            "Australia           1185\n",
            "Name: count, dtype: int64\n"
          ]
        }
      ],
      "source": [
        "#print the Top 10 Countries with most orders\n",
        "top_customers_country = df_copy['Country'].value_counts().head(10)\n",
        "print(top_customers_country)"
      ]
    },
    {
      "cell_type": "markdown",
      "metadata": {},
      "source": [
        "* We check for Top Items customers are purchasing"
      ]
    },
    {
      "cell_type": "code",
      "execution_count": null,
      "metadata": {},
      "outputs": [
        {
          "name": "stdout",
          "output_type": "stream",
          "text": [
            "StockCode: 85123A | Count: 2270\n",
            "Descriptions: ['WHITE HANGING HEART T-LIGHT HOLDER' ''\n",
            " 'CREAM HANGING HEART T-LIGHT HOLDER']\n",
            "---\n",
            "StockCode: 85099B | Count: 2115\n",
            "Descriptions: ['JUMBO BAG RED RETROSPOT']\n",
            "---\n",
            "StockCode: 22423 | Count: 2019\n",
            "Descriptions: ['REGENCY CAKESTAND 3 TIER']\n",
            "---\n",
            "StockCode: 47566 | Count: 1707\n",
            "Descriptions: ['PARTY BUNTING']\n",
            "---\n",
            "StockCode: 20725 | Count: 1595\n",
            "Descriptions: ['LUNCH BAG RED RETROSPOT' 'LUNCH BAG RED SPOTTY']\n",
            "---\n",
            "StockCode: 84879 | Count: 1489\n",
            "Descriptions: ['ASSORTED COLOUR BIRD ORNAMENT']\n",
            "---\n",
            "StockCode: 22197 | Count: 1426\n",
            "Descriptions: ['SMALL POPCORN HOLDER' 'POPCORN HOLDER']\n",
            "---\n",
            "StockCode: 22720 | Count: 1401\n",
            "Descriptions: ['SET OF 3 CAKE TINS PANTRY DESIGN ']\n",
            "---\n",
            "StockCode: 21212 | Count: 1370\n",
            "Descriptions: ['PACK OF 72 RETROSPOT CAKE CASES']\n",
            "---\n",
            "StockCode: 20727 | Count: 1328\n",
            "Descriptions: ['LUNCH BAG  BLACK SKULL.']\n",
            "---\n"
          ]
        }
      ],
      "source": [
        "# Print descriptions and count for top 10 StockCodes\n",
        "\n",
        "top_stockcodes = df_copy['StockCode'].value_counts().head(10).index\n",
        "\n",
        "for code in top_stockcodes:\n",
        "    count = df_copy[df_copy['StockCode'] == code].shape[0]\n",
        "    descriptions = df_copy[df_copy['StockCode'] == code]['Description'].unique()\n",
        "    print(f\"StockCode: {code} | Count: {count}\")\n",
        "    print(\"Descriptions:\", descriptions)\n",
        "    print(\"---\")"
      ]
    },
    {
      "cell_type": "code",
      "execution_count": 52,
      "metadata": {},
      "outputs": [
        {
          "name": "stdout",
          "output_type": "stream",
          "text": [
            "Month\n",
            "1     34350\n",
            "2     27184\n",
            "3     35915\n",
            "4     29171\n",
            "5     36292\n",
            "6     36056\n",
            "7     38716\n",
            "8     34566\n",
            "9     49323\n",
            "10    59396\n",
            "11    83498\n",
            "12    66818\n",
            "Name: count, dtype: int64\n"
          ]
        }
      ],
      "source": [
        "# Extract month from InvoiceDate and count purchases per month\n",
        "\n",
        "df_copy['Month'] = df_copy['InvoiceDate'].dt.month\n",
        "monthly_purchases = df_copy['Month'].value_counts().sort_index()\n",
        "print(monthly_purchases)"
      ]
    },
    {
      "cell_type": "markdown",
      "metadata": {},
      "source": [
        "We can see that customers tend to make more purchases in the 4th quater of the year with Novemeber being the peak month"
      ]
    },
    {
      "cell_type": "markdown",
      "metadata": {
        "id": "ltNetd085qHf"
      },
      "source": [
        "# Push files to Repo"
      ]
    },
    {
      "cell_type": "markdown",
      "metadata": {},
      "source": [
        "* In cases where you don't need to push files to Repo, you may replace this section with \"Conclusions and Next Steps\" and state your conclusions and next steps."
      ]
    },
    {
      "cell_type": "markdown",
      "metadata": {},
      "source": [
        "# Section 2"
      ]
    },
    {
      "cell_type": "markdown",
      "metadata": {},
      "source": [
        "Section 2 content"
      ]
    },
    {
      "cell_type": "code",
      "execution_count": null,
      "metadata": {},
      "outputs": [],
      "source": []
    },
    {
      "cell_type": "markdown",
      "metadata": {},
      "source": [
        "---"
      ]
    },
    {
      "cell_type": "markdown",
      "metadata": {},
      "source": [
        "NOTE"
      ]
    },
    {
      "cell_type": "markdown",
      "metadata": {},
      "source": [
        "* You may add as many sections as you want, as long as it supports your project workflow.\n",
        "* All notebook's cells should be run top-down (you can't create a dynamic wherein a given point you need to go back to a previous cell to execute some task, like go back to a previous cell and refresh a variable content)"
      ]
    },
    {
      "cell_type": "markdown",
      "metadata": {},
      "source": [
        "---"
      ]
    },
    {
      "cell_type": "code",
      "execution_count": null,
      "metadata": {
        "id": "aKlnIozA4eQO",
        "outputId": "fd09bc1f-adb1-4511-f6ce-492a6af570c0"
      },
      "outputs": [],
      "source": [
        "import os\n",
        "try:\n",
        "  # create your folder here\n",
        "  # os.makedirs(name='')\n",
        "except Exception as e:\n",
        "  print(e)\n"
      ]
    }
  ],
  "metadata": {
    "accelerator": "GPU",
    "colab": {
      "name": "Data Practitioner Jupyter Notebook.ipynb",
      "provenance": [],
      "toc_visible": true
    },
    "kernelspec": {
      "display_name": ".venv (3.12.8)",
      "language": "python",
      "name": "python3"
    },
    "language_info": {
      "codemirror_mode": {
        "name": "ipython",
        "version": 3
      },
      "file_extension": ".py",
      "mimetype": "text/x-python",
      "name": "python",
      "nbconvert_exporter": "python",
      "pygments_lexer": "ipython3",
      "version": "3.12.8"
    },
    "orig_nbformat": 2
  },
  "nbformat": 4,
  "nbformat_minor": 2
}
