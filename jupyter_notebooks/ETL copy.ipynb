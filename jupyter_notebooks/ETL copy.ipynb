{
  "cells": [
    {
      "cell_type": "markdown",
      "metadata": {
        "id": "0aStgWSO0E0E"
      },
      "source": [
        "# **Online Retail Transactions**"
      ]
    },
    {
      "cell_type": "markdown",
      "metadata": {
        "id": "1eLEkw5O0ECa"
      },
      "source": [
        "## Objectives\n",
        "\n",
        "* Analyse customer behaviour and preferences, identify popular products, and optimise pricing and marketing strategies.\n",
        "\n",
        "## Inputs\n",
        "\n",
        "* Data Source:  https://www.kaggle.com/datasets/abhishekrp1517/online-retail-transactions-dataset/data\n",
        "\n",
        "## Outputs\n",
        "\n",
        "* A Jupyter Noteboo file (ETL.ipynb) to show the analysis of data\n",
        "* Code that advises on how to Optimze pricing and predicts possible succesful marketing strategies\n",
        "\n",
        "\n",
        "\n"
      ]
    },
    {
      "cell_type": "markdown",
      "metadata": {
        "id": "9uWZXH9LwoQg"
      },
      "source": [
        "---"
      ]
    },
    {
      "cell_type": "markdown",
      "metadata": {
        "id": "cqP-UeN-z3i2"
      },
      "source": [
        "# Working directory"
      ]
    },
    {
      "cell_type": "markdown",
      "metadata": {},
      "source": [
        "* Changed the working directory from its current folder to its parent folder"
      ]
    },
    {
      "cell_type": "markdown",
      "metadata": {
        "id": "aOGIGS-uz3i2"
      },
      "source": [
        "\n",
        "* Access the current directory with os.getcwd()"
      ]
    },
    {
      "cell_type": "code",
      "execution_count": 4,
      "metadata": {
        "id": "wZfF_j-Bz3i4",
        "outputId": "66943449-1436-4c3d-85c7-b85f9f78349b"
      },
      "outputs": [
        {
          "data": {
            "text/plain": [
              "'c:\\\\Users\\\\jeff .LAPTOP-IGU6VVPB\\\\Desktop\\\\Code institute\\\\vscode-projects\\\\hackathon 1\\\\retail_transaction_analysis\\\\jupyter_notebooks'"
            ]
          },
          "execution_count": 4,
          "metadata": {},
          "output_type": "execute_result"
        }
      ],
      "source": [
        "import os\n",
        "current_dir = os.getcwd()\n",
        "current_dir"
      ]
    },
    {
      "cell_type": "markdown",
      "metadata": {
        "id": "9MWW8E7lz3i7"
      },
      "source": [
        "We want to make the parent of the current directory the new current directory\n",
        "* os.path.dirname() gets the parent directory\n",
        "* os.chir() defines the new current directory"
      ]
    },
    {
      "cell_type": "code",
      "execution_count": 5,
      "metadata": {
        "id": "TwHsQRWjz3i9",
        "outputId": "86849db3-cd2f-4cc5-ebb8-2d0caafa1a2c"
      },
      "outputs": [
        {
          "name": "stdout",
          "output_type": "stream",
          "text": [
            "You set a new current directory\n"
          ]
        }
      ],
      "source": [
        "os.chdir(os.path.dirname(current_dir))\n",
        "print(\"You set a new current directory\")"
      ]
    },
    {
      "cell_type": "markdown",
      "metadata": {
        "id": "M_xPk_Ijz3i-"
      },
      "source": [
        "Confirm the new current directory"
      ]
    },
    {
      "cell_type": "code",
      "execution_count": 6,
      "metadata": {
        "id": "vz3S-_kjz3jA",
        "outputId": "00b79ae4-75d0-4a96-d193-ac9ef9847ea2"
      },
      "outputs": [
        {
          "data": {
            "text/plain": [
              "'c:\\\\Users\\\\jeff .LAPTOP-IGU6VVPB\\\\Desktop\\\\Code institute\\\\vscode-projects\\\\hackathon 1\\\\retail_transaction_analysis'"
            ]
          },
          "execution_count": 6,
          "metadata": {},
          "output_type": "execute_result"
        }
      ],
      "source": [
        "current_dir = os.getcwd()\n",
        "current_dir"
      ]
    },
    {
      "cell_type": "markdown",
      "metadata": {
        "id": "-mavJ8DibrcQ"
      },
      "source": [
        "# Data Extraction, Transformation, and Loading (ETL)"
      ]
    },
    {
      "cell_type": "markdown",
      "metadata": {},
      "source": [
        "Importing packages"
      ]
    },
    {
      "cell_type": "code",
      "execution_count": 7,
      "metadata": {},
      "outputs": [],
      "source": [
        "#Setting up & Importing packages\n",
        "\n",
        "import matplotlib.pyplot as plt\n",
        "import seaborn as sns\n",
        "import pandas as pd\n",
        "sns.set_style('whitegrid')\n",
        "from sklearn.pipeline import Pipeline\n",
        "import plotly.express as px"
      ]
    },
    {
      "cell_type": "markdown",
      "metadata": {},
      "source": [
        "* Extracting the data"
      ]
    },
    {
      "cell_type": "code",
      "execution_count": 10,
      "metadata": {},
      "outputs": [],
      "source": [
        "#loading the data\n",
        "df = pd.read_csv('jupyter_notebooks/Online Retail.csv')\n",
        "df_copy = df.copy()"
      ]
    },
    {
      "cell_type": "markdown",
      "metadata": {
        "id": "ZY3l0-AxO93d"
      },
      "source": [
        "---"
      ]
    },
    {
      "cell_type": "markdown",
      "metadata": {
        "id": "uFQo3ycuO-v6"
      },
      "source": [
        "* Cleaning the data"
      ]
    },
    {
      "cell_type": "markdown",
      "metadata": {},
      "source": [
        "Section 2 content"
      ]
    },
    {
      "cell_type": "code",
      "execution_count": 11,
      "metadata": {},
      "outputs": [
        {
          "data": {
            "text/html": [
              "<div>\n",
              "<style scoped>\n",
              "    .dataframe tbody tr th:only-of-type {\n",
              "        vertical-align: middle;\n",
              "    }\n",
              "\n",
              "    .dataframe tbody tr th {\n",
              "        vertical-align: top;\n",
              "    }\n",
              "\n",
              "    .dataframe thead th {\n",
              "        text-align: right;\n",
              "    }\n",
              "</style>\n",
              "<table border=\"1\" class=\"dataframe\">\n",
              "  <thead>\n",
              "    <tr style=\"text-align: right;\">\n",
              "      <th></th>\n",
              "      <th>InvoiceNo</th>\n",
              "      <th>StockCode</th>\n",
              "      <th>Description</th>\n",
              "      <th>Quantity</th>\n",
              "      <th>InvoiceDate</th>\n",
              "      <th>UnitPrice</th>\n",
              "      <th>CustomerID</th>\n",
              "      <th>Country</th>\n",
              "    </tr>\n",
              "  </thead>\n",
              "  <tbody>\n",
              "    <tr>\n",
              "      <th>0</th>\n",
              "      <td>536365</td>\n",
              "      <td>85123A</td>\n",
              "      <td>WHITE HANGING HEART T-LIGHT HOLDER</td>\n",
              "      <td>6</td>\n",
              "      <td>2010-12-01 08:26:00</td>\n",
              "      <td>2.55</td>\n",
              "      <td>17850</td>\n",
              "      <td>United Kingdom</td>\n",
              "    </tr>\n",
              "    <tr>\n",
              "      <th>1</th>\n",
              "      <td>536365</td>\n",
              "      <td>71053</td>\n",
              "      <td>WHITE METAL LANTERN</td>\n",
              "      <td>6</td>\n",
              "      <td>2010-12-01 08:26:00</td>\n",
              "      <td>3.39</td>\n",
              "      <td>17850</td>\n",
              "      <td>United Kingdom</td>\n",
              "    </tr>\n",
              "    <tr>\n",
              "      <th>2</th>\n",
              "      <td>536365</td>\n",
              "      <td>84406B</td>\n",
              "      <td>CREAM CUPID HEARTS COAT HANGER</td>\n",
              "      <td>8</td>\n",
              "      <td>2010-12-01 08:26:00</td>\n",
              "      <td>2.75</td>\n",
              "      <td>17850</td>\n",
              "      <td>United Kingdom</td>\n",
              "    </tr>\n",
              "    <tr>\n",
              "      <th>3</th>\n",
              "      <td>536365</td>\n",
              "      <td>84029G</td>\n",
              "      <td>KNITTED UNION FLAG HOT WATER BOTTLE</td>\n",
              "      <td>6</td>\n",
              "      <td>2010-12-01 08:26:00</td>\n",
              "      <td>3.39</td>\n",
              "      <td>17850</td>\n",
              "      <td>United Kingdom</td>\n",
              "    </tr>\n",
              "    <tr>\n",
              "      <th>4</th>\n",
              "      <td>536365</td>\n",
              "      <td>84029E</td>\n",
              "      <td>RED WOOLLY HOTTIE WHITE HEART.</td>\n",
              "      <td>6</td>\n",
              "      <td>2010-12-01 08:26:00</td>\n",
              "      <td>3.39</td>\n",
              "      <td>17850</td>\n",
              "      <td>United Kingdom</td>\n",
              "    </tr>\n",
              "  </tbody>\n",
              "</table>\n",
              "</div>"
            ],
            "text/plain": [
              "  InvoiceNo StockCode                          Description  Quantity  \\\n",
              "0    536365    85123A   WHITE HANGING HEART T-LIGHT HOLDER         6   \n",
              "1    536365     71053                  WHITE METAL LANTERN         6   \n",
              "2    536365    84406B       CREAM CUPID HEARTS COAT HANGER         8   \n",
              "3    536365    84029G  KNITTED UNION FLAG HOT WATER BOTTLE         6   \n",
              "4    536365    84029E       RED WOOLLY HOTTIE WHITE HEART.         6   \n",
              "\n",
              "           InvoiceDate  UnitPrice  CustomerID         Country  \n",
              "0  2010-12-01 08:26:00       2.55       17850  United Kingdom  \n",
              "1  2010-12-01 08:26:00       3.39       17850  United Kingdom  \n",
              "2  2010-12-01 08:26:00       2.75       17850  United Kingdom  \n",
              "3  2010-12-01 08:26:00       3.39       17850  United Kingdom  \n",
              "4  2010-12-01 08:26:00       3.39       17850  United Kingdom  "
            ]
          },
          "execution_count": 11,
          "metadata": {},
          "output_type": "execute_result"
        }
      ],
      "source": [
        "df_copy.head()"
      ]
    },
    {
      "cell_type": "markdown",
      "metadata": {},
      "source": [
        "---"
      ]
    },
    {
      "cell_type": "code",
      "execution_count": 13,
      "metadata": {},
      "outputs": [
        {
          "data": {
            "text/plain": [
              "InvoiceNo         0\n",
              "StockCode         0\n",
              "Description    1454\n",
              "Quantity          0\n",
              "InvoiceDate       0\n",
              "UnitPrice         0\n",
              "CustomerID        0\n",
              "Country           0\n",
              "dtype: int64"
            ]
          },
          "execution_count": 13,
          "metadata": {},
          "output_type": "execute_result"
        }
      ],
      "source": [
        "df_copy.isnull().sum()"
      ]
    },
    {
      "cell_type": "code",
      "execution_count": null,
      "metadata": {},
      "outputs": [
        {
          "name": "stderr",
          "output_type": "stream",
          "text": [
            "C:\\Users\\jeff .LAPTOP-IGU6VVPB\\AppData\\Local\\Temp\\ipykernel_12404\\293228325.py:1: FutureWarning: Series.fillna with 'method' is deprecated and will raise in a future version. Use obj.ffill() or obj.bfill() instead.\n",
            "  df_copy['Description'] = df_copy.groupby('StockCode')['Description'].transform(lambda x: x.fillna(method='ffill').fillna(method='bfill'))\n"
          ]
        }
      ],
      "source": [
        "#Fill missing Description values using StockCode group where it is possible\n",
        "\n",
        "df_copy['Description'] = df_copy.groupby('StockCode')['Description'].transform(lambda x: x.fillna(method='ffill').fillna(method='bfill'))\n"
      ]
    },
    {
      "cell_type": "code",
      "execution_count": null,
      "metadata": {},
      "outputs": [
        {
          "data": {
            "text/plain": [
              "112"
            ]
          },
          "execution_count": 17,
          "metadata": {},
          "output_type": "execute_result"
        }
      ],
      "source": [
        "#check if there are still missing values in Description\n",
        "df_copy['Description'].isnull().sum()"
      ]
    },
    {
      "cell_type": "code",
      "execution_count": null,
      "metadata": {},
      "outputs": [
        {
          "data": {
            "text/html": [
              "<div>\n",
              "<style scoped>\n",
              "    .dataframe tbody tr th:only-of-type {\n",
              "        vertical-align: middle;\n",
              "    }\n",
              "\n",
              "    .dataframe tbody tr th {\n",
              "        vertical-align: top;\n",
              "    }\n",
              "\n",
              "    .dataframe thead th {\n",
              "        text-align: right;\n",
              "    }\n",
              "</style>\n",
              "<table border=\"1\" class=\"dataframe\">\n",
              "  <thead>\n",
              "    <tr style=\"text-align: right;\">\n",
              "      <th></th>\n",
              "      <th>InvoiceNo</th>\n",
              "      <th>StockCode</th>\n",
              "      <th>Description</th>\n",
              "      <th>Quantity</th>\n",
              "      <th>InvoiceDate</th>\n",
              "      <th>UnitPrice</th>\n",
              "      <th>CustomerID</th>\n",
              "      <th>Country</th>\n",
              "    </tr>\n",
              "  </thead>\n",
              "  <tbody>\n",
              "    <tr>\n",
              "      <th>1970</th>\n",
              "      <td>536545</td>\n",
              "      <td>21134</td>\n",
              "      <td>NaN</td>\n",
              "      <td>1</td>\n",
              "      <td>2010-12-01 14:32:00</td>\n",
              "      <td>0.0</td>\n",
              "      <td>15287</td>\n",
              "      <td>United Kingdom</td>\n",
              "    </tr>\n",
              "    <tr>\n",
              "      <th>1987</th>\n",
              "      <td>536549</td>\n",
              "      <td>85226A</td>\n",
              "      <td>NaN</td>\n",
              "      <td>1</td>\n",
              "      <td>2010-12-01 14:34:00</td>\n",
              "      <td>0.0</td>\n",
              "      <td>15287</td>\n",
              "      <td>United Kingdom</td>\n",
              "    </tr>\n",
              "    <tr>\n",
              "      <th>1988</th>\n",
              "      <td>536550</td>\n",
              "      <td>85044</td>\n",
              "      <td>NaN</td>\n",
              "      <td>1</td>\n",
              "      <td>2010-12-01 14:34:00</td>\n",
              "      <td>0.0</td>\n",
              "      <td>15287</td>\n",
              "      <td>United Kingdom</td>\n",
              "    </tr>\n",
              "    <tr>\n",
              "      <th>2024</th>\n",
              "      <td>536552</td>\n",
              "      <td>20950</td>\n",
              "      <td>NaN</td>\n",
              "      <td>1</td>\n",
              "      <td>2010-12-01 14:34:00</td>\n",
              "      <td>0.0</td>\n",
              "      <td>15287</td>\n",
              "      <td>United Kingdom</td>\n",
              "    </tr>\n",
              "    <tr>\n",
              "      <th>2026</th>\n",
              "      <td>536554</td>\n",
              "      <td>84670</td>\n",
              "      <td>NaN</td>\n",
              "      <td>23</td>\n",
              "      <td>2010-12-01 14:35:00</td>\n",
              "      <td>0.0</td>\n",
              "      <td>15287</td>\n",
              "      <td>United Kingdom</td>\n",
              "    </tr>\n",
              "    <tr>\n",
              "      <th>...</th>\n",
              "      <td>...</td>\n",
              "      <td>...</td>\n",
              "      <td>...</td>\n",
              "      <td>...</td>\n",
              "      <td>...</td>\n",
              "      <td>...</td>\n",
              "      <td>...</td>\n",
              "      <td>...</td>\n",
              "    </tr>\n",
              "    <tr>\n",
              "      <th>280754</th>\n",
              "      <td>561498</td>\n",
              "      <td>21610</td>\n",
              "      <td>NaN</td>\n",
              "      <td>-14</td>\n",
              "      <td>2011-07-27 14:10:00</td>\n",
              "      <td>0.0</td>\n",
              "      <td>15287</td>\n",
              "      <td>United Kingdom</td>\n",
              "    </tr>\n",
              "    <tr>\n",
              "      <th>281615</th>\n",
              "      <td>561555</td>\n",
              "      <td>37477B</td>\n",
              "      <td>NaN</td>\n",
              "      <td>-11</td>\n",
              "      <td>2011-07-28 10:21:00</td>\n",
              "      <td>0.0</td>\n",
              "      <td>15287</td>\n",
              "      <td>United Kingdom</td>\n",
              "    </tr>\n",
              "    <tr>\n",
              "      <th>281616</th>\n",
              "      <td>561557</td>\n",
              "      <td>37477C</td>\n",
              "      <td>NaN</td>\n",
              "      <td>-31</td>\n",
              "      <td>2011-07-28 10:21:00</td>\n",
              "      <td>0.0</td>\n",
              "      <td>15287</td>\n",
              "      <td>United Kingdom</td>\n",
              "    </tr>\n",
              "    <tr>\n",
              "      <th>346849</th>\n",
              "      <td>567207</td>\n",
              "      <td>35592T</td>\n",
              "      <td>NaN</td>\n",
              "      <td>4</td>\n",
              "      <td>2011-09-19 11:01:00</td>\n",
              "      <td>0.0</td>\n",
              "      <td>15287</td>\n",
              "      <td>United Kingdom</td>\n",
              "    </tr>\n",
              "    <tr>\n",
              "      <th>497301</th>\n",
              "      <td>578360</td>\n",
              "      <td>84971L</td>\n",
              "      <td>NaN</td>\n",
              "      <td>2</td>\n",
              "      <td>2011-11-24 10:36:00</td>\n",
              "      <td>0.0</td>\n",
              "      <td>15287</td>\n",
              "      <td>United Kingdom</td>\n",
              "    </tr>\n",
              "  </tbody>\n",
              "</table>\n",
              "<p>112 rows × 8 columns</p>\n",
              "</div>"
            ],
            "text/plain": [
              "       InvoiceNo StockCode Description  Quantity          InvoiceDate  \\\n",
              "1970      536545     21134         NaN         1  2010-12-01 14:32:00   \n",
              "1987      536549    85226A         NaN         1  2010-12-01 14:34:00   \n",
              "1988      536550     85044         NaN         1  2010-12-01 14:34:00   \n",
              "2024      536552     20950         NaN         1  2010-12-01 14:34:00   \n",
              "2026      536554     84670         NaN        23  2010-12-01 14:35:00   \n",
              "...          ...       ...         ...       ...                  ...   \n",
              "280754    561498     21610         NaN       -14  2011-07-27 14:10:00   \n",
              "281615    561555    37477B         NaN       -11  2011-07-28 10:21:00   \n",
              "281616    561557    37477C         NaN       -31  2011-07-28 10:21:00   \n",
              "346849    567207    35592T         NaN         4  2011-09-19 11:01:00   \n",
              "497301    578360    84971L         NaN         2  2011-11-24 10:36:00   \n",
              "\n",
              "        UnitPrice  CustomerID         Country  \n",
              "1970          0.0       15287  United Kingdom  \n",
              "1987          0.0       15287  United Kingdom  \n",
              "1988          0.0       15287  United Kingdom  \n",
              "2024          0.0       15287  United Kingdom  \n",
              "2026          0.0       15287  United Kingdom  \n",
              "...           ...         ...             ...  \n",
              "280754        0.0       15287  United Kingdom  \n",
              "281615        0.0       15287  United Kingdom  \n",
              "281616        0.0       15287  United Kingdom  \n",
              "346849        0.0       15287  United Kingdom  \n",
              "497301        0.0       15287  United Kingdom  \n",
              "\n",
              "[112 rows x 8 columns]"
            ]
          },
          "execution_count": 18,
          "metadata": {},
          "output_type": "execute_result"
        }
      ],
      "source": [
        "#View rows where Description is still missing\n",
        "missing_description_rows = df_copy[df_copy['Description'].isnull()]\n",
        "missing_description_rows"
      ]
    },
    {
      "cell_type": "code",
      "execution_count": null,
      "metadata": {},
      "outputs": [
        {
          "name": "stderr",
          "output_type": "stream",
          "text": [
            "<>:1: SyntaxWarning: invalid escape sequence '\\?'\n",
            "<>:1: SyntaxWarning: invalid escape sequence '\\?'\n",
            "C:\\Users\\jeff .LAPTOP-IGU6VVPB\\AppData\\Local\\Temp\\ipykernel_12404\\3318850241.py:1: SyntaxWarning: invalid escape sequence '\\?'\n",
            "  df_copy[df_copy['Description'].str.contains('\\?', na=False)]\n"
          ]
        },
        {
          "data": {
            "text/html": [
              "<div>\n",
              "<style scoped>\n",
              "    .dataframe tbody tr th:only-of-type {\n",
              "        vertical-align: middle;\n",
              "    }\n",
              "\n",
              "    .dataframe tbody tr th {\n",
              "        vertical-align: top;\n",
              "    }\n",
              "\n",
              "    .dataframe thead th {\n",
              "        text-align: right;\n",
              "    }\n",
              "</style>\n",
              "<table border=\"1\" class=\"dataframe\">\n",
              "  <thead>\n",
              "    <tr style=\"text-align: right;\">\n",
              "      <th></th>\n",
              "      <th>InvoiceNo</th>\n",
              "      <th>StockCode</th>\n",
              "      <th>Description</th>\n",
              "      <th>Quantity</th>\n",
              "      <th>InvoiceDate</th>\n",
              "      <th>UnitPrice</th>\n",
              "      <th>CustomerID</th>\n",
              "      <th>Country</th>\n",
              "    </tr>\n",
              "  </thead>\n",
              "  <tbody>\n",
              "    <tr>\n",
              "      <th>7313</th>\n",
              "      <td>537032</td>\n",
              "      <td>21275</td>\n",
              "      <td>?</td>\n",
              "      <td>-30</td>\n",
              "      <td>2010-12-03 16:50:00</td>\n",
              "      <td>0.0</td>\n",
              "      <td>15287</td>\n",
              "      <td>United Kingdom</td>\n",
              "    </tr>\n",
              "    <tr>\n",
              "      <th>21518</th>\n",
              "      <td>538090</td>\n",
              "      <td>20956</td>\n",
              "      <td>?</td>\n",
              "      <td>-723</td>\n",
              "      <td>2010-12-09 14:48:00</td>\n",
              "      <td>0.0</td>\n",
              "      <td>15287</td>\n",
              "      <td>United Kingdom</td>\n",
              "    </tr>\n",
              "    <tr>\n",
              "      <th>22295</th>\n",
              "      <td>538160</td>\n",
              "      <td>20956</td>\n",
              "      <td>?</td>\n",
              "      <td>288</td>\n",
              "      <td>2010-12-09 17:18:00</td>\n",
              "      <td>0.0</td>\n",
              "      <td>15287</td>\n",
              "      <td>United Kingdom</td>\n",
              "    </tr>\n",
              "    <tr>\n",
              "      <th>38261</th>\n",
              "      <td>539494</td>\n",
              "      <td>21479</td>\n",
              "      <td>?</td>\n",
              "      <td>752</td>\n",
              "      <td>2010-12-20 10:36:00</td>\n",
              "      <td>0.0</td>\n",
              "      <td>15287</td>\n",
              "      <td>United Kingdom</td>\n",
              "    </tr>\n",
              "    <tr>\n",
              "      <th>43662</th>\n",
              "      <td>540100</td>\n",
              "      <td>22837</td>\n",
              "      <td>?</td>\n",
              "      <td>-106</td>\n",
              "      <td>2011-01-04 16:53:00</td>\n",
              "      <td>0.0</td>\n",
              "      <td>15287</td>\n",
              "      <td>United Kingdom</td>\n",
              "    </tr>\n",
              "    <tr>\n",
              "      <th>...</th>\n",
              "      <td>...</td>\n",
              "      <td>...</td>\n",
              "      <td>...</td>\n",
              "      <td>...</td>\n",
              "      <td>...</td>\n",
              "      <td>...</td>\n",
              "      <td>...</td>\n",
              "      <td>...</td>\n",
              "    </tr>\n",
              "    <tr>\n",
              "      <th>514649</th>\n",
              "      <td>579734</td>\n",
              "      <td>84859C</td>\n",
              "      <td>wet?</td>\n",
              "      <td>-153</td>\n",
              "      <td>2011-11-30 14:25:00</td>\n",
              "      <td>0.0</td>\n",
              "      <td>15287</td>\n",
              "      <td>United Kingdom</td>\n",
              "    </tr>\n",
              "    <tr>\n",
              "      <th>514735</th>\n",
              "      <td>579742</td>\n",
              "      <td>85204</td>\n",
              "      <td>lost??</td>\n",
              "      <td>-1131</td>\n",
              "      <td>2011-11-30 14:34:00</td>\n",
              "      <td>0.0</td>\n",
              "      <td>15287</td>\n",
              "      <td>United Kingdom</td>\n",
              "    </tr>\n",
              "    <tr>\n",
              "      <th>524370</th>\n",
              "      <td>580547</td>\n",
              "      <td>21201</td>\n",
              "      <td>???</td>\n",
              "      <td>-390</td>\n",
              "      <td>2011-12-05 09:29:00</td>\n",
              "      <td>0.0</td>\n",
              "      <td>15287</td>\n",
              "      <td>United Kingdom</td>\n",
              "    </tr>\n",
              "    <tr>\n",
              "      <th>535324</th>\n",
              "      <td>581201</td>\n",
              "      <td>22217</td>\n",
              "      <td>damages?</td>\n",
              "      <td>-155</td>\n",
              "      <td>2011-12-07 18:30:00</td>\n",
              "      <td>0.0</td>\n",
              "      <td>15287</td>\n",
              "      <td>United Kingdom</td>\n",
              "    </tr>\n",
              "    <tr>\n",
              "      <th>535327</th>\n",
              "      <td>581204</td>\n",
              "      <td>85104</td>\n",
              "      <td>????damages????</td>\n",
              "      <td>-355</td>\n",
              "      <td>2011-12-07 18:32:00</td>\n",
              "      <td>0.0</td>\n",
              "      <td>15287</td>\n",
              "      <td>United Kingdom</td>\n",
              "    </tr>\n",
              "  </tbody>\n",
              "</table>\n",
              "<p>89 rows × 8 columns</p>\n",
              "</div>"
            ],
            "text/plain": [
              "       InvoiceNo StockCode      Description  Quantity          InvoiceDate  \\\n",
              "7313      537032     21275                ?       -30  2010-12-03 16:50:00   \n",
              "21518     538090     20956                ?      -723  2010-12-09 14:48:00   \n",
              "22295     538160     20956                ?       288  2010-12-09 17:18:00   \n",
              "38261     539494     21479                ?       752  2010-12-20 10:36:00   \n",
              "43662     540100     22837                ?      -106  2011-01-04 16:53:00   \n",
              "...          ...       ...              ...       ...                  ...   \n",
              "514649    579734    84859C             wet?      -153  2011-11-30 14:25:00   \n",
              "514735    579742     85204           lost??     -1131  2011-11-30 14:34:00   \n",
              "524370    580547     21201              ???      -390  2011-12-05 09:29:00   \n",
              "535324    581201     22217         damages?      -155  2011-12-07 18:30:00   \n",
              "535327    581204     85104  ????damages????      -355  2011-12-07 18:32:00   \n",
              "\n",
              "        UnitPrice  CustomerID         Country  \n",
              "7313          0.0       15287  United Kingdom  \n",
              "21518         0.0       15287  United Kingdom  \n",
              "22295         0.0       15287  United Kingdom  \n",
              "38261         0.0       15287  United Kingdom  \n",
              "43662         0.0       15287  United Kingdom  \n",
              "...           ...         ...             ...  \n",
              "514649        0.0       15287  United Kingdom  \n",
              "514735        0.0       15287  United Kingdom  \n",
              "524370        0.0       15287  United Kingdom  \n",
              "535324        0.0       15287  United Kingdom  \n",
              "535327        0.0       15287  United Kingdom  \n",
              "\n",
              "[89 rows x 8 columns]"
            ]
          },
          "execution_count": 19,
          "metadata": {},
          "output_type": "execute_result"
        }
      ],
      "source": [
        "#View rows with '?' in Description\n",
        "df_copy[df_copy['Description'].str.contains('\\?', na=False)]"
      ]
    },
    {
      "cell_type": "code",
      "execution_count": null,
      "metadata": {},
      "outputs": [],
      "source": [
        "#replace '?' in Description with an empty string\n",
        "\n",
        "df_copy['Description'] = df_copy['Description'].str.replace('?', '', regex=False)"
      ]
    },
    {
      "cell_type": "code",
      "execution_count": 75,
      "metadata": {},
      "outputs": [],
      "source": [
        "#Remove rows with negative or zero Quantity\n",
        "df_copy = df_copy[df_copy['Quantity'] > 0]\n",
        "\n",
        "#Remove rows with negative or zero UnitPrice\n",
        "df_copy = df_copy[df_copy['UnitPrice'] > 0]"
      ]
    },
    {
      "cell_type": "code",
      "execution_count": 27,
      "metadata": {},
      "outputs": [
        {
          "data": {
            "text/plain": [
              "15"
            ]
          },
          "execution_count": 27,
          "metadata": {},
          "output_type": "execute_result"
        }
      ],
      "source": [
        "df_copy['Description'].isnull().sum()"
      ]
    },
    {
      "cell_type": "code",
      "execution_count": 76,
      "metadata": {},
      "outputs": [
        {
          "name": "stderr",
          "output_type": "stream",
          "text": [
            "c:\\Users\\jeff .LAPTOP-IGU6VVPB\\Desktop\\Code institute\\vscode-projects\\hackathon 1\\retail_transaction_analysis\\.venv\\Lib\\site-packages\\feature_engine\\imputation\\categorical.py:232: FutureWarning: is_categorical_dtype is deprecated and will be removed in a future version. Use isinstance(dtype, CategoricalDtype) instead\n",
            "  if pd.api.types.is_categorical_dtype(X[variable]):\n"
          ]
        }
      ],
      "source": [
        "#Create a Pipline to replace the missing values in the Description column with 'Missing'\n",
        "from feature_engine.imputation import CategoricalImputer\n",
        "\n",
        "pipeline = Pipeline([\n",
        "      ('replace description',  CategoricalImputer(imputation_method='missing',\n",
        "                                                   fill_value='No Description',\n",
        "                                                   variables=['Description']) )\n",
        "])\n",
        "\n",
        "#Fit and transform the pipeline on the dataframe\n",
        "df_copy = pipeline.fit_transform(df_copy)"
      ]
    },
    {
      "cell_type": "code",
      "execution_count": 77,
      "metadata": {},
      "outputs": [
        {
          "data": {
            "text/plain": [
              "0"
            ]
          },
          "execution_count": 77,
          "metadata": {},
          "output_type": "execute_result"
        }
      ],
      "source": [
        "#Check if there are still any missing values in Description\n",
        "df_copy['Description'].isnull().sum()"
      ]
    },
    {
      "cell_type": "markdown",
      "metadata": {},
      "source": [
        "* We want to View Data types and then change to appropriate data types for analysis"
      ]
    },
    {
      "cell_type": "code",
      "execution_count": 34,
      "metadata": {},
      "outputs": [
        {
          "data": {
            "text/plain": [
              "InvoiceNo       object\n",
              "StockCode       object\n",
              "Description     object\n",
              "Quantity         int64\n",
              "InvoiceDate     object\n",
              "UnitPrice      float64\n",
              "CustomerID       int64\n",
              "Country         object\n",
              "dtype: object"
            ]
          },
          "execution_count": 34,
          "metadata": {},
          "output_type": "execute_result"
        }
      ],
      "source": [
        "df_copy.dtypes"
      ]
    },
    {
      "cell_type": "code",
      "execution_count": null,
      "metadata": {},
      "outputs": [],
      "source": [
        "#Convert InvoiceDate to datetime format and CustomerID to object type\n",
        "df_copy['InvoiceDate'] = pd.to_datetime(df_copy['InvoiceDate'])\n",
        "\n",
        "df_copy['CustomerID'] = df_copy['CustomerID'].astype(object)"
      ]
    },
    {
      "cell_type": "markdown",
      "metadata": {},
      "source": [
        "# Undertsnading the data"
      ]
    },
    {
      "cell_type": "markdown",
      "metadata": {},
      "source": [
        "* First we find out the Country with the Most Orders"
      ]
    },
    {
      "cell_type": "code",
      "execution_count": 78,
      "metadata": {},
      "outputs": [
        {
          "name": "stdout",
          "output_type": "stream",
          "text": [
            "Country\n",
            "United Kingdom    485123\n",
            "Germany             9040\n",
            "France              8407\n",
            "EIRE                7890\n",
            "Spain               2484\n",
            "Netherlands         2359\n",
            "Belgium             2031\n",
            "Switzerland         1966\n",
            "Portugal            1501\n",
            "Australia           1182\n",
            "Name: count, dtype: int64\n"
          ]
        }
      ],
      "source": [
        "#print the Top 10 Countries with most orders\n",
        "top_customers_country = df_copy['Country'].value_counts().head(10)\n",
        "print(top_customers_country)"
      ]
    },
    {
      "cell_type": "code",
      "execution_count": 115,
      "metadata": {},
      "outputs": [
        {
          "data": {
            "image/png": "[encoded data removed]",
            "text/plain": [
              "<Figure size 400x200 with 1 Axes>"
            ]
          },
          "metadata": {},
          "output_type": "display_data"
        }
      ],
      "source": [
        "top_countries = df_copy['Country'].value_counts().head(10)\n",
        "plt.figure(figsize=(4,2))\n",
        "top_countries.plot(kind='bar')\n",
        "plt.title('Top 10 Countries by Number of Orders')\n",
        "plt.xlabel('Country')\n",
        "plt.ylabel('Order Count')\n",
        "plt.show()"
      ]
    },
    {
      "cell_type": "markdown",
      "metadata": {},
      "source": [
        "* We check for Top Items customers are purchasing"
      ]
    },
    {
      "cell_type": "code",
      "execution_count": 117,
      "metadata": {},
      "outputs": [
        {
          "name": "stdout",
          "output_type": "stream",
          "text": [
            "StockCode: 85123A | Count: 2265\n",
            "Descriptions: ['WHITE HANGING HEART T-LIGHT HOLDER' 'CREAM HANGING HEART T-LIGHT HOLDER']\n",
            "---\n",
            "StockCode: 85099B | Count: 2112\n",
            "Descriptions: ['JUMBO BAG RED RETROSPOT']\n",
            "---\n",
            "StockCode: 22423 | Count: 2017\n",
            "Descriptions: ['REGENCY CAKESTAND 3 TIER']\n",
            "---\n",
            "StockCode: 47566 | Count: 1706\n",
            "Descriptions: ['PARTY BUNTING']\n",
            "---\n",
            "StockCode: 20725 | Count: 1595\n",
            "Descriptions: ['LUNCH BAG RED RETROSPOT' 'LUNCH BAG RED SPOTTY']\n",
            "---\n",
            "StockCode: 84879 | Count: 1489\n",
            "Descriptions: ['ASSORTED COLOUR BIRD ORNAMENT']\n",
            "---\n",
            "StockCode: 22197 | Count: 1426\n",
            "Descriptions: ['SMALL POPCORN HOLDER' 'POPCORN HOLDER']\n",
            "---\n",
            "StockCode: 22720 | Count: 1399\n",
            "Descriptions: ['SET OF 3 CAKE TINS PANTRY DESIGN ']\n",
            "---\n",
            "StockCode: 21212 | Count: 1370\n",
            "Descriptions: ['PACK OF 72 RETROSPOT CAKE CASES']\n",
            "---\n",
            "StockCode: 20727 | Count: 1328\n",
            "Descriptions: ['LUNCH BAG  BLACK SKULL.']\n",
            "---\n"
          ]
        }
      ],
      "source": [
        "# Print descriptions and count for top 10 StockCodes\n",
        "\n",
        "top_stockcodes = df_copy['StockCode'].value_counts().head(10).index\n",
        "\n",
        "for code in top_stockcodes:\n",
        "    count = df_copy[df_copy['StockCode'] == code].shape[0]\n",
        "    descriptions = df_copy[df_copy['StockCode'] == code]['Description'].unique()\n",
        "    print(f\"StockCode: {code} | Count: {count}\")\n",
        "    print(\"Descriptions:\", descriptions)\n",
        "    print(\"---\")"
      ]
    },
    {
      "cell_type": "code",
      "execution_count": 120,
      "metadata": {},
      "outputs": [
        {
          "data": {
            "image/png": "[encoded data removed]",
            "text/plain": [
              "<Figure size 600x400 with 1 Axes>"
            ]
          },
          "metadata": {},
          "output_type": "display_data"
        }
      ],
      "source": [
        "#horizontal bar chart of top 10 StockCodes by Quantity\n",
        "top_stockcodes_quantity = df_copy.groupby('StockCode')['Quantity'].sum().nlargest(10)\n",
        "plt.figure(figsize=(6, 4))  \n",
        "plt.show(top_stockcodes_quantity.plot(kind='barh'))\n"
      ]
    },
    {
      "cell_type": "code",
      "execution_count": 127,
      "metadata": {},
      "outputs": [
        {
          "name": "stdout",
          "output_type": "stream",
          "text": [
            "Month\n",
            "1     34306\n",
            "2     27105\n",
            "3     35803\n",
            "4     29096\n",
            "5     36164\n",
            "6     35977\n",
            "7     38645\n",
            "8     34483\n",
            "9     49261\n",
            "10    59304\n",
            "11    83369\n",
            "12    66591\n",
            "Name: count, dtype: int64\n"
          ]
        }
      ],
      "source": [
        "# Extract month from InvoiceDate and count purchases per month\n",
        "\n",
        "df_copy['Month'] = df_copy['InvoiceDate'].dt.month\n",
        "monthly_purchases = df_copy['Month'].value_counts().sort_index()\n",
        "print(monthly_purchases)"
      ]
    },
    {
      "cell_type": "code",
      "execution_count": 126,
      "metadata": {},
      "outputs": [
        {
          "data": {
            "image/png": "[encoded data removed]",
            "text/plain": [
              "<Figure size 500x300 with 1 Axes>"
            ]
          },
          "metadata": {},
          "output_type": "display_data"
        }
      ],
      "source": [
        "# line chart of monthly purchases\n",
        "plt.figure(figsize=(5,3)) \n",
        "plt.show(monthly_purchases.plot(kind='line', marker='o'))   "
      ]
    },
    {
      "cell_type": "markdown",
      "metadata": {},
      "source": [
        "We can see that customers tend to make more purchases in the 4th quater of the year with Novemeber being the peak month"
      ]
    },
    {
      "cell_type": "markdown",
      "metadata": {},
      "source": [
        "---"
      ]
    },
    {
      "cell_type": "markdown",
      "metadata": {},
      "source": [
        "# Price Optimization"
      ]
    },
    {
      "cell_type": "markdown",
      "metadata": {},
      "source": [
        "* Key Value Items drive perception (if KVIs look cheap, customers may believe the store is generally affordable), so we keep them competetive and leave the price as it is."
      ]
    },
    {
      "cell_type": "code",
      "execution_count": null,
      "metadata": {},
      "outputs": [
        {
          "name": "stdout",
          "output_type": "stream",
          "text": [
            "     StockCode  UnitPrice  Quantity\n",
            "2465     23843   2.080000     80995\n",
            "2020     23166   1.468480     78033\n",
            "1109     22197   1.042468     56921\n",
            "2909     84077   0.320670     55047\n",
            "3387    85099B   2.485459     48474\n",
            "3407    85123A   3.116949     37660\n",
            "3194     84879   1.722290     36461\n",
            "439      21212   0.758431     36419\n",
            "1942     23084   2.380502     30788\n",
            "1374     22492   0.785026     26633\n"
          ]
        }
      ],
      "source": [
        "  #identify key value items in the dataset\n",
        "key_value_items = df_copy.groupby('StockCode').agg({'UnitPrice': 'mean', 'Quantity': 'sum'}).reset_index()\n",
        "key_value_items = key_value_items.sort_values(by='Quantity', ascending=False).head(10)\n",
        "print(key_value_items)\n"
      ]
    },
    {
      "cell_type": "markdown",
      "metadata": {},
      "source": [
        "* We can increase the price of Non Key Value items with low price sensitivity "
      ]
    },
    {
      "cell_type": "code",
      "execution_count": null,
      "metadata": {},
      "outputs": [
        {
          "name": "stdout",
          "output_type": "stream",
          "text": [
            "     StockCode  UnitPrice  Quantity\n",
            "2465     23843   2.080000     80995\n",
            "2020     23166   1.468480     78033\n",
            "1109     22197   1.042468     56921\n",
            "2909     84077   0.320670     55047\n",
            "3387    85099B   2.485459     48474\n",
            "3407    85123A   3.116949     37660\n",
            "3194     84879   1.722290     36461\n",
            "439      21212   0.758431     36419\n",
            "1942     23084   2.380502     30788\n",
            "1374     22492   0.785026     26633\n"
          ]
        }
      ],
      "source": [
        "\n",
        "#find top stockcodes with low price sensitivity\n",
        "low_price_sensitivity = df_copy.groupby('StockCode').agg({'UnitPrice': 'mean', 'Quantity': 'sum'}).reset_index()\n",
        "low_price_sensitivity = low_price_sensitivity.sort_values(by='Quantity', ascending=False).head(10)\n",
        "print(low_price_sensitivity)"
      ]
    },
    {
      "cell_type": "markdown",
      "metadata": {},
      "source": [
        "* We can check for price elasticity "
      ]
    },
    {
      "cell_type": "code",
      "execution_count": 223,
      "metadata": {},
      "outputs": [
        {
          "name": "stdout",
          "output_type": "stream",
          "text": [
            "      StockCode     UnitPrice  Quantity  PriceElasticity\n",
            "3901          B  11062.060000         1         0.000090\n",
            "3900  AMAZONFEE   6880.545000         2         0.000291\n",
            "945       22016     83.330000         1         0.012000\n",
            "498       21310     29.950000         1         0.033389\n",
            "3254     84968f     25.490000         1         0.039231\n",
            "...         ...           ...       ...              ...\n",
            "1492      22616      0.447330     26135     58424.488759\n",
            "80        17003      0.363099     23056     63497.803573\n",
            "138       20668      0.163649     12979     79310.156895\n",
            "2909      84077      0.320670     55047    171662.247387\n",
            "39        16045      0.043478      8900    204700.000000\n",
            "\n",
            "[3922 rows x 4 columns]\n"
          ]
        }
      ],
      "source": [
        "#estimate the price elasticity of demand for each StockCode and group by StockCode and sort by PriceElasticity\n",
        "price_elasticity = df_copy.groupby('StockCode').agg({'UnitPrice': 'mean', 'Quantity': 'sum'}).reset_index()\n",
        "price_elasticity['PriceElasticity'] = price_elasticity['Quantity'] / price_elasticity['UnitPrice']\n",
        "price_elasticity = price_elasticity.sort_values(by='PriceElasticity', ascending=True)\n",
        "print(price_elasticity.sort_values(by='PriceElasticity', ascending=True))"
      ]
    },
    {
      "cell_type": "markdown",
      "metadata": {},
      "source": [
        "* We check for items with low price elasticity (is less than 1 )"
      ]
    },
    {
      "cell_type": "code",
      "execution_count": 228,
      "metadata": {},
      "outputs": [
        {
          "name": "stdout",
          "output_type": "stream",
          "text": [
            "      StockCode  UnitPrice  Quantity  PriceElasticity\n",
            "3901          B  11062.060         1         0.000090\n",
            "3900  AMAZONFEE   6880.545         2         0.000291\n",
            "945       22016     83.330         1         0.012000\n",
            "498       21310     29.950         1         0.033389\n",
            "3254     84968f     25.490         1         0.039231\n",
            "...         ...        ...       ...              ...\n",
            "3845     90199D      6.270         6         0.956938\n",
            "3125     84795b     16.655        16         0.960672\n",
            "2793     72807a      8.290         8         0.965018\n",
            "841       21836      5.040         5         0.992063\n",
            "3598     90036F      8.046         8         0.994283\n",
            "\n",
            "[250 rows x 4 columns]\n"
          ]
        }
      ],
      "source": [
        "\n",
        "# Show items with price elasticity less than 1\n",
        "low_price_elasticity_items = price_elasticity[price_elasticity['PriceElasticity'] < 1]\n",
        "print(low_price_elasticity_items.sort_values(by='PriceElasticity', ascending=True))"
      ]
    },
    {
      "cell_type": "code",
      "execution_count": 134,
      "metadata": {},
      "outputs": [
        {
          "data": {
            "image/png": "[encoded data removed]",
            "text/plain": [
              "<Figure size 640x480 with 1 Axes>"
            ]
          },
          "metadata": {},
          "output_type": "display_data"
        }
      ],
      "source": [
        "#Scatter plot of Price vs Quantity for low price elasticity items (less than 1)\n",
        "plt.show(low_price_elasticity_items.plot.scatter(x='UnitPrice', y='Quantity', title='Price vs Quantity for Low Price Elasticity Items'))"
      ]
    },
    {
      "cell_type": "markdown",
      "metadata": {},
      "source": [
        "* We can also check for items with very high price elasticity(where elasticity is greater than 5) "
      ]
    },
    {
      "cell_type": "code",
      "execution_count": 190,
      "metadata": {},
      "outputs": [
        {
          "name": "stdout",
          "output_type": "stream",
          "text": [
            "     StockCode  UnitPrice  Quantity  PriceElasticity\n",
            "39       16045   0.043478      8900    204700.000000\n",
            "2909     84077   0.320670     55047    171662.247387\n",
            "138      20668   0.163649     12979     79310.156895\n",
            "80       17003   0.363099     23056     63497.803573\n",
            "1492     22616   0.447330     26135     58424.488759\n",
            "...        ...        ...       ...              ...\n",
            "3651     90072   4.083571        21         5.142557\n",
            "3312    85028L   1.950000        10         5.128205\n",
            "3478    85185D   2.950000        15         5.084746\n",
            "791      21758   9.839375        50         5.081624\n",
            "3777     90166   4.176000        21         5.028736\n",
            "\n",
            "[3326 rows x 4 columns]\n"
          ]
        }
      ],
      "source": [
        "#show Items with very high price elasticity (greater than 1000) \n",
        "high_price_elasticity_items = price_elasticity[price_elasticity['PriceElasticity'] > 5]\n",
        "print(high_price_elasticity_items.sort_values(by='PriceElasticity', ascending=False))\n"
      ]
    },
    {
      "cell_type": "code",
      "execution_count": null,
      "metadata": {},
      "outputs": [
        {
          "data": {
            "image/png": "[encoded data removed]",
            "text/plain": [
              "<Figure size 640x480 with 1 Axes>"
            ]
          },
          "metadata": {},
          "output_type": "display_data"
        }
      ],
      "source": [
        "#Scatter plot of Price vs Quantity for high price elasticity items (greater than 5)\n",
        "plt.show(high_price_elasticity_items.plot.scatter(x='UnitPrice', y='Quantity', title='Price vs Quantity for High Price Elasticity Items'))"
      ]
    },
    {
      "cell_type": "code",
      "execution_count": null,
      "metadata": {},
      "outputs": [
        {
          "data": {
            "text/plain": [
              "<Figure size 1000x600 with 0 Axes>"
            ]
          },
          "metadata": {},
          "output_type": "display_data"
        },
        {
          "data": {
            "image/png": "[encoded data removed]",
            "text/plain": [
              "<Figure size 640x480 with 1 Axes>"
            ]
          },
          "metadata": {},
          "output_type": "display_data"
        }
      ],
      "source": [
        "# box plot of Price vs Quantity for high price elasticity items (greater than 5)\n",
        "plt.figure(figsize=(10, 6)) \n",
        "plt.show(high_price_elasticity_items.plot.box(x='UnitPrice', y='Quantity', title='Price vs Quantity for High Price Elasticity Items'))"
      ]
    },
    {
      "cell_type": "code",
      "execution_count": null,
      "metadata": {},
      "outputs": [
        {
          "name": "stdout",
          "output_type": "stream",
          "text": [
            "StockCodes with different UnitPrices: ['10002', '10080', '10125', '10133', '10135', '11001', '15034', '15036', '15039', '15044A', '15044B', '15044C', '15044D', '15056BL', '15056N', '15056P', '15056bl', '15056n', '15056p', '15058A', '15058B', '15058C', '15060B', '16008', '16014', '16015', '16016', '16020C', '16045', '16048', '16049', '16052', '16054', '16156S', '16161P', '16161U', '16168M', '16169E', '16207A', '16207B', '16216', '16218', '16219', '16225', '16235', '16236', '16237', '16238', '16244B', '16254', '16258A', '16259', '17003', '17011F', '17012A', '17012B', '17012C', '17012D', '17012E', '17012F', '17013D', '17014A', '17021', '17038', '17084N', '17084P', '17084R', '17090A', '17091A', '17091J', '17096', '17109D', '17129F', '17136A', '18007', '18094C', '18097C', '18098C', '20615', '20616', '20617', '20618', '20619', '20622', '20652', '20653', '20654', '20655', '20657', '20658', '20659', '20661', '20662', '20663', '20664', '20665', '20666', '20667', '20668', '20669', '20670', '20674', '20675', '20676', '20677', '20679', '20681', '20682', '20684', '20685', '20686', '20694', '20696', '20699', '20700', '20701', '20702', '20704', '20705', '20707', '20711', '20712', '20713', '20716', '20717', '20718', '20719', '20723', '20724', '20725', '20726', '20727', '20728', '20731', '20733', '20734', '20735', '20748', '20749', '20750', '20751', '20752', '20754', '20755', '20757', '20761', '20762', '20763', '20764', '20765', '20766', '20767', '20768', '20769', '20770', '20771', '20772', '20774', '20775', '20777', '20780', '20781', '20782', '20785', '20794', '20795', '20796', '20801', '20802', '20803', '20818', '20819', '20826', '20828', '20829', '20830', '20831', '20832', '20835', '20837', '20838', '20839', '20840', '20846', '20847', '20854', '20856', '20866', '20867', '20868', '20869', '20886', '20892', '20893', '20894', '20897', '20898', '20901', '20902', '20903', '20914', '20931', '20932', '20933', '20934', '20936', '20941', '20956', '20960', '20961', '20963', '20966', '20967', '20969', '20970', '20971', '20972', '20973', '20974', '20975', '20977', '20978', '20979', '20980', '20981', '20982', '20983', '20984', '20985', '20986', '20992', '20996', '20997', '20998', '21000', '21001', '21002', '21003', '21012', '21014', '21015', '21018', '21025', '21026', '21027', '21028', '21030', '21031', '21032', '21033', '21035', '21038', '21039', '21040', '21041', '21042', '21043', '21051', '21054', '21055', '21056', '21058', '21059', '21060', '21061', '21062', '21063', '21064', '21065', '21066', '21067', '21068', '21069', '21070', '21071', '21078', '21080', '21084', '21086', '21087', '21088', '21089', '21090', '21094', '21095', '21096', '21098', '21100', '21106', '21107', '21108', '21109', '21110', '21111', '21112', '21114', '21115', '21116', '21117', '21121', '21122', '21123', '21124', '21125', '21126', '21128', '21129', '21131', '21132', '21135', '21136', '21137', '21143', '21147', '21154', '21155', '21156', '21157', '21158', '21159', '21161', '21162', '21163', '21164', '21165', '21166', '21167', '21169', '21171', '21172', '21174', '21175', '21179', '21181', '21187', '21188', '21189', '21190', '21191', '21192', '21194', '21195', '21196', '21197', '21198', '21199', '21200', '21201', '21202', '21204', '21205', '21206', '21207', '21208', '21209', '21210', '21211', '21212', '21213', '21215', '21216', '21217', '21218', '21219', '21220', '21221', '21222', '21224', '21226', '21231', '21232', '21238', '21239', '21240', '21242', '21243', '21244', '21245', '21246', '21248', '21249', '21250', '21251', '21253', '21257', '21258', '21259', '21260', '21261', '21262', '21263', '21264', '21265', '21269', '21270', '21272', '21275', '21277', '21279', '21281', '21284', '21285', '21286', '21287', '21288', '21291', '21292', '21293', '21294', '21306', '21307', '21311', '21313', '21314', '21316', '21317', '21318', '21319', '21320', '21324', '21326', '21327', '21328', '21329', '21331', '21332', '21333', '21336', '21340', '21344', '21348', '21349', '21351', '21352', '21354', '21355', '21356', '21358', '21359', '21360', '21361', '21363', '21364', '21365', '21366', '21367', '21368', '21369', '21370', '21371', '21372', '21373', '21374', '21375', '21376', '21377', '21378', '21379', '21380', '21381', '21382', '21383', '21385', '21386', '21389', '21390', '21391', '21392', '21393', '21394', '21395', '21397', '21398', '21399', '21400', '21401', '21402', '21403', '21407', '21408', '21411', '21413', '21415', '21417', '21418', '21420', '21421', '21422', '21424', '21425', '21426', '21427', '21428', '21429', '21430', '21439', '21441', '21442', '21446', '21447', '21448', '21452', '21454', '21455', '21456', '21457', '21458', '21459', '21460', '21461', '21462', '21463', '21464', '21465', '21466', '21467', '21468', '21469', '21470', '21471', '21472', '21473', '21476', '21479', '21481', '21484', '21485', '21486', '21488', '21494', '21495', '21497', '21498', '21499', '21500', '21503', '21504', '21506', '21507', '21508', '21509', '21518', '21519', '21520', '21523', '21524', '21527', '21528', '21530', '21531', '21533', '21534', '21535', '21537', '21539', '21544', '21547', '21555', '21556', '21557', '21558', '21559', '21561', '21562', '21563', '21564', '21576', '21577', '21578', '21579', '21580', '21581', '21584', '21586', '21587', '21588', '21591', '21592', '21594', '21609', '21613', '21614', '21615', '21616', '21617', '21618', '21619', '21620', '21621', '21622', '21623', '21624', '21625', '21626', '21627', '21628', '21629', '21630', '21631', '21632', '21633', '21634', '21635', '21636', '21638', '21640', '21641', '21642', '21643', '21648', '21650', '21651', '21654', '21656', '21657', '21658', '21662', '21664', '21666', '21668', '21669', '21670', '21671', '21672', '21673', '21675', '21676', '21677', '21678', '21679', '21680', '21682', '21683', '21684', '21686', '21688', '21689', '21693', '21694', '21695', '21696', '21698', '21700', '21703', '21704', '21705', '21706', '21707', '21708', '21709', '21710', '21711', '21713', '21714', '21715', '21716', '21717', '21718', '21719', '21721', '21722', '21723', '21724', '21725', '21726', '21730', '21731', '21733', '21735', '21736', '21738', '21739', '21741', '21742', '21743', '21744', '21745', '21746', '21747', '21749', '21750', '21754', '21755', '21756', '21758', '21763', '21769', '21770', '21773', '21774', '21775', '21781', '21784', '21785', '21786', '21787', '21788', '21789', '21790', '21791', '21792', '21793', '21794', '21801', '21802', '21803', '21804', '21807', '21808', '21809', '21810', '21811', '21812', '21813', '21814', '21815', '21817', '21818', '21819', '21820', '21821', '21822', '21823', '21824', '21826', '21828', '21829', '21830', '21832', '21833', '21836', '21843', '21844', '21845', '21846', '21847', '21849', '21850', '21851', '21864', '21865', '21866', '21867', '21868', '21870', '21871', '21872', '21873', '21874', '21875', '21876', '21877', '21878', '21879', '21880', '21881', '21882', '21883', '21884', '21888', '21889', '21890', '21891', '21892', '21894', '21895', '21896', '21897', '21898', '21899', '21900', '21901', '21902', '21903', '21905', '21906', '21907', '21908', '21911', '21912', '21913', '21914', '21915', '21916', '21917', '21918', '21922', '21926', '21927', '21928', '21929', '21930', '21931', '21932', '21933', '21934', '21935', '21936', '21937', '21942', '21943', '21944', '21945', '21946', '21947', '21948', '21949', '21955', '21967', '21972', '21974', '21975', '21976', '21977', '21980', '21981', '21982', '21983', '21984', '21985', '21986', '21987', '21988', '21989', '21990', '21991', '21992', '21993', '22021', '22023', '22024', '22025', '22026', '22027', '22028', '22029', '22030', '22031', '22032', '22033', '22034', '22035', '22037', '22041', '22042', '22043', '22044', '22045', '22046', '22047', '22048', '22049', '22050', '22053', '22055', '22057', '22059', '22060', '22061', '22062', '22063', '22064', '22065', '22066', '22067', '22068', '22069', '22070', '22071', '22072', '22073', '22074', '22075', '22076', '22077', '22078', '22079', '22080', '22081', '22082', '22083', '22084', '22085', '22086', '22087', '22088', '22089', '22090', '22091', '22092', '22093', '22094', '22095', '22096', '22097', '22098', '22099', '22100', '22101', '22102', '22103', '22104', '22105', '22106', '22107', '22108', '22109', '22110', '22111', '22112', '22113', '22114', '22115', '22116', '22117', '22118', '22119', '22120', '22121', '22123', '22124', '22125', '22127', '22128', '22129', '22130', '22131', '22132', '22133', '22134', '22135', '22136', '22137', '22138', '22139', '22141', '22142', '22144', '22147', '22148', '22149', '22150', '22151', '22152', '22153', '22154', '22155', '22156', '22158', '22161', '22162', '22163', '22164', '22165', '22166', '22167', '22168', '22169', '22170', '22171', '22173', '22174', '22175', '22176', '22178', '22179', '22180', '22181', '22182', '22183', '22184', '22185', '22186', '22187', '22188', '22189', '22190', '22191', '22192', '22193', '22194', '22195', '22196', '22197', '22198', '22199', '22200', '22201', '22202', '22203', '22204', '22206', '22207', '22208', '22209', '22210', '22211', '22212', '22214', '22215', '22216', '22217', '22219', '22220', '22221', '22222', '22223', '22224', '22227', '22228', '22229', '22230', '22231', '22232', '22233', '22236', '22241', '22242', '22243', '22244', '22245', '22246', '22247', '22248', '22249', '22250', '22251', '22252', '22254', '22255', '22256', '22257', '22258', '22259', '22260', '22261', '22262', '22263', '22264', '22265', '22266', '22267', '22268', '22269', '22270', '22271', '22272', '22273', '22274', '22276', '22277', '22278', '22279', '22280', '22281', '22282', '22283', '22284', '22285', '22286', '22287', '22288', '22289', '22291', '22292', '22293', '22294', '22295', '22296', '22297', '22299', '22300', '22301', '22302', '22303', '22304', '22305', '22306', '22307', '22308', '22309', '22310', '22311', '22312', '22313', '22314', '22315', '22316', '22317', '22318', '22319', '22320', '22321', '22322', '22324', '22325', '22326', '22327', '22328', '22329', '22331', '22332', '22333', '22334', '22335', '22336', '22337', '22338', '22339', '22340', '22341', '22342', '22343', '22344', '22345', '22346', '22348', '22349', '22350', '22351', '22352', '22354', '22355', '22356', '22357', '22358', '22359', '22360', '22361', '22362', '22363', '22364', '22365', '22366', '22367', '22371', '22372', '22374', '22375', '22376', '22377', '22378', '22379', '22380', '22381', '22382', '22383', '22384', '22385', '22386', '22389', '22390', '22391', '22393', '22394', '22395', '22396', '22398', '22399', '22400', '22402', '22403', '22405', '22406', '22407', '22408', '22409', '22410', '22411', '22412', '22413', '22414', '22416', '22417', '22418', '22419', '22420', '22421', '22422', '22423', '22424', '22425', '22426', '22427', '22428', '22429', '22430', '22431', '22432', '22433', '22434', '22435', '22436', '22437', '22438', '22439', '22440', '22441', '22442', '22443', '22444', '22445', '22446', '22447', '22448', '22449', '22450', '22451', '22452', '22453', '22454', '22456', '22457', '22458', '22459', '22460', '22461', '22464', '22465', '22466', '22467', '22468', '22469', '22470', '22471', '22472', '22473', '22474', '22475', '22476', '22477', '22478', '22479', '22480', '22481', '22482', '22483', '22485', '22486', '22487', '22488', '22489', '22491', '22492', '22493', '22494', '22495', '22496', '22497', '22498', '22499', '22500', '22501', '22502', '22503', '22504', '22505', '22507', '22508', '22509', '22510', '22511', '22512', '22513', '22514', '22515', '22516', '22517', '22518', '22519', '22520', '22521', '22522', '22523', '22524', '22525', '22526', '22529', '22530', '22531', '22532', '22533', '22534', '22535', '22536', '22537', '22538', '22539', '22540', '22541', '22543', '22544', '22545', '22546', '22547', '22548', '22549', '22550', '22551', '22553', '22554', '22555', '22556', '22557', '22558', '22559', '22560', '22561', '22562', '22563', '22564', '22565', '22566', '22567', '22568', '22569', '22570', '22571', '22572', '22573', '22574', '22575', '22576', '22577', '22578', '22579', '22580', '22581', '22582', '22583', '22584', '22585', '22586', '22587', '22588', '22589', '22591', '22592', '22593', '22594', '22595', '22596', '22597', '22598', '22599', '22600', '22601', '22602', '22603', '22604', '22605', '22606', '22607', '22608', '22609', '22610', '22611', '22613', '22614', '22615', '22616', '22617', '22618', '22619', '22620', '22621', '22622', '22623', '22624', '22625', '22626', '22627', '22628', '22629', '22630', '22631', '22632', '22633', '22634', '22635', '22636', '22637', '22638', '22639', '22640', '22641', '22642', '22643', '22644', '22645', '22646', '22647', '22649', '22650', '22651', '22652', '22653', '22654', '22655', '22656', '22659', '22660', '22661', '22662', '22663', '22664', '22665', '22666', '22667', '22668', '22669', '22670', '22671', '22672', '22673', '22674', '22675', '22676', '22677', '22678', '22679', '22680', '22681', '22682', '22683', '22684', '22685', '22686', '22687', '22688', '22689', '22690', '22691', '22692', '22693', '22694', '22695', '22696', '22697', '22698', '22699', '22700', '22701', '22702', '22703', '22704', '22706', '22708', '22709', '22710', '22711', '22712', '22713', '22714', '22715', '22716', '22717', '22718', '22719', '22720', '22721', '22722', '22723', '22725', '22726', '22727', '22728', '22729', '22730', '22731', '22732', '22733', '22734', '22735', '22736', '22737', '22738', '22739', '22740', '22741', '22742', '22743', '22744', '22745', '22746', '22747', '22748', '22749', '22750', '22751', '22752', '22753', '22754', '22755', '22756', '22757', '22758', '22759', '22760', '22761', '22762', '22763', '22764', '22765', '22766', '22767', '22768', '22769', '22770', '22771', '22772', '22773', '22774', '22775', '22776', '22777', '22778', '22779', '22780', '22781', '22782', '22783', '22784', '22785', '22786', '22788', '22789', '22791', '22792', '22794', '22795', '22796', '22797', '22798', '22799', '22800', '22801', '22802', '22803', '22804', '22805', '22806', '22807', '22808', '22809', '22810', '22811', '22812', '22813', '22814', '22815', '22816', '22817', '22818', '22819', '22820', '22821', '22822', '22823', '22824', '22825', '22826', '22827', '22828', '22829', '22830', '22831', '22832', '22833', '22834', '22835', '22837', '22838', '22839', '22840', '22841', '22842', '22843', '22844', '22845', '22846', '22847', '22848', '22849', '22851', '22852', '22853', '22854', '22855', '22856', '22857', '22858', '22859', '22860', '22861', '22862', '22863', '22865', '22866', '22867', '22868', '22869', '22870', '22871', '22872', '22873', '22874', '22875', '22876', '22877', '22878', '22879', '22880', '22881', '22882', '22883', '22884', '22885', '22886', '22887', '22888', '22889', '22890', '22891', '22892', '22893', '22894', '22895', '22896', '22897', '22898', '22899', '22900', '22902', '22903', '22904', '22905', '22906', '22907', '22908', '22909', '22910', '22911', '22912', '22913', '22914', '22915', '22916', '22917', '22918', '22919', '22920', '22921', '22922', '22923', '22924', '22925', '22926', '22927', '22928', '22929', '22930', '22931', '22932', '22933', '22934', '22935', '22936', '22937', '22938', '22939', '22940', '22941', '22942', '22943', '22944', '22945', '22946', '22947', '22948', '22949', '22950', '22951', '22952', '22953', '22954', '22955', '22956', '22957', '22959', '22960', '22961', '22962', '22963', '22964', '22965', '22966', '22967', '22968', '22969', '22970', '22971', '22972', '22973', '22974', '22975', '22976', '22977', '22978', '22979', '22980', '22981', '22982', '22983', '22984', '22985', '22986', '22988', '22989', '22990', '22991', '22992', '22993', '22994', '22995', '22996', '22997', '22998', '22999', '23000', '23002', '23003', '23004', '23005', '23006', '23007', '23008', '23009', '23010', '23012', '23013', '23014', '23015', '23016', '23017', '23018', '23019', '23020', '23021', '23022', '23023', '23024', '23025', '23026', '23027', '23028', '23029', '23031', '23032', '23033', '23034', '23035', '23036', '23037', '23038', '23039', '23040', '23041', '23042', '23043', '23044', '23045', '23046', '23048', '23049', '23050', '23051', '23052', '23053', '23054', '23055', '23056', '23057', '23058', '23060', '23061', '23064', '23065', '23066', '23067', '23068', '23069', '23070', '23071', '23072', '23073', '23074', '23075', '23076', '23077', '23078', '23079', '23080', '23081', '23082', '23083', '23084', '23085', '23086', '23087', '23088', '23089', '23090', '23091', '23092', '23093', '23094', '23096', '23099', '23100', '23101', '23102', '23103', '23104', '23106', '23107', '23108', '23109', '23110', '23111', '23112', '23113', '23114', '23115', '23116', '23117', '23118', '23119', '23120', '23121', '23122', '23123', '23124', '23125', '23126', '23127', '23128', '23129', '23130', '23131', '23132', '23133', '23134', '23135', '23136', '23137', '23138', '23139', '23140', '23141', '23142', '23143', '23144', '23145', '23146', '23147', '23148', '23149', '23150', '23151', '23152', '23153', '23154', '23155', '23156', '23157', '23158', '23159', '23160', '23161', '23162', '23163', '23164', '23165', '23166', '23167', '23168', '23169', '23170', '23171', '23172', '23173', '23174', '23175', '23176', '23177', '23178', '23179', '23180', '23181', '23182', '23183', '23184', '23185', '23186', '23187', '23188', '23189', '23190', '23191', '23192', '23193', '23194', '23196', '23197', '23198', '23199', '23200', '23201', '23202', '23203', '23204', '23205', '23206', '23207', '23208', '23209', '23210', '23211', '23212', '23213', '23214', '23215', '23216', '23217', '23218', '23219', '23220', '23221', '23222', '23223', '23224', '23225', '23226', '23227', '23228', '23229', '23230', '23231', '23232', '23233', '23234', '23235', '23236', '23237', '23238', '23239', '23240', '23241', '23242', '23243', '23244', '23245', '23247', '23249', '23250', '23251', '23252', '23253', '23254', '23255', '23256', '23263', '23264', '23265', '23266', '23267', '23268', '23269', '23270', '23271', '23272', '23273', '23274', '23275', '23280', '23281', '23282', '23283', '23284', '23285', '23286', '23287', '23288', '23289', '23290', '23291', '23292', '23293', '23294', '23295', '23296', '23297', '23298', '23299', '23300', '23301', '23302', '23306', '23307', '23308', '23309', '23310', '23311', '23312', '23313', '23314', '23315', '23316', '23317', '23318', '23319', '23320', '23321', '23322', '23323', '23324', '23325', '23326', '23327', '23328', '23329', '23330', '23331', '23332', '23333', '23334', '23335', '23336', '23337', '23338', '23339', '23340', '23341', '23342', '23343', '23344', '23345', '23346', '23347', '23348', '23349', '23350', '23351', '23352', '23353', '23354', '23355', '23356', '23357', '23358', '23359', '23360', '23365', '23366', '23367', '23368', '23369', '23370', '23371', '23372', '23373', '23374', '23375', '23376', '23377', '23378', '23379', '23380', '23381', '23382', '23388', '23389', '23390', '23391', '23392', '23393', '23394', '23395', '23396', '23397', '23398', '23399', '23400', '23401', '23402', '23403', '23404', '23405', '23406', '23407', '23409', '23410', '23411', '23412', '23413', '23414', '23415', '23416', '23417', '23418', '23419', '23420', '23421', '23422', '23423', '23424', '23425', '23426', '23427', '23428', '23429', '23430', '23431', '23432', '23433', '23434', '23435', '23436', '23437', '23438', '23439', '23440', '23444', '23445', '23446', '23447', '23451', '23452', '23453', '23454', '23455', '23456', '23457', '23460', '23461', '23462', '23463', '23464', '23465', '23466', '23467', '23469', '23470', '23471', '23472', '23473', '23474', '23475', '23476', '23477', '23478', '23479', '23480', '23481', '23482', '23483', '23484', '23485', '23486', '23487', '23489', '23490', '23491', '23492', '23493', '23494', '23495', '23496', '23497', '23498', '23499', '23500', '23501', '23502', '23503', '23504', '23505', '23506', '23507', '23508', '23509', '23510', '23511', '23512', '23513', '23514', '23515', '23516', '23517', '23518', '23519', '23520', '23521', '23522', '23523', '23524', '23525', '23526', '23527', '23528', '23529', '23530', '23531', '23532', '23533', '23534', '23535', '23536', '23537', '23538', '23539', '23540', '23541', '23542', '23543', '23544', '23545', '23550', '23551', '23552', '23553', '23554', '23555', '23556', '23557', '23558', '23559', '23560', '23561', '23562', '23564', '23565', '23566', '23567', '23568', '23569', '23570', '23571', '23575', '23576', '23578', '23579', '23580', '23581', '23582', '23583', '23597', '23598', '23630', '23660', '23661', '23681', '23691', '23694', '23695', '23697', '23702', '35001G', '35001W', '35004B', '35004C', '35004G', '35095A', '35095B', '35241', '35265', '35471D', '35598B', '35598D', '35599B', '35599D', '35607A', '35610A', '35610C', '35637A', '35637C', '35638A', '35638B', '35646', '35648', '35649', '35651', '35653', '35809A', '35809B', '35809a', '35810A', '35810B', '35815P', '35817P', '35818P', '35819B', '35819P', '35833P', '35911A', '35911B', '35912B', '35913B', '35914', '35915B', '35915C', '35916A', '35916B', '35916C', '35920', '35921', '35923', '35924', '35933', '35953', '35954', '35957', '35961', '35964', '35965', '35967', '35968', '35970', '35971', '37327', '37333', '37340', '37342', '37343', '37351', '37370', '37413', '37423', '37444A', '37444C', '37446', '37447', '37448', '37449', '37450', '37462E', '37467', '37468', '37471', '37475', '37476', '37479B', '37479P', '37482P', '37489A', '37489B', '37489C', '37489D', '37491A', '37491D', '37495', '37500', '37501', '40001', '40003', '40016', '44234', '44235', '44236', '44242B', '46118', '46126A', '46138B', '46775D', '46776A', '46776B', '46776C', '46776D', '46776E', '46776F', '47013A', '47013C', '47021G', '47310M', '47341A', '47343A', '47344B', '47348A', '47351B', '47367B', '47369A', '47369B', '47421', '47422', '47469', '47471', '47480', '47481', '47503A', '47503H', '47504H', '47504K', '47518F', '47518f', '47556B', '47559B', '47559b', '47563A', '47566', '47566B', '47566b', '47567B', '47570B', '47570b', '47574A', '47578A', '47580', '47585A', '47590A', '47590B', '47591B', '47591D', '47591d', '47593A', '47593B', '47594A', '47594B', '47599A', '47599B', '48111', '48116', '48129', '48138', '48173C', '48173c', '48184', '48185', '48187', '48188', '48189', '48194', '51008', '51014A', '51014C', '51014L', '51020A', '51020B', '62018', '62094B', '70006', '70007', '71038', '71053', '71101E', '71143', '71270', '71279', '71403', '71459', '71477', '71495A', '71495B', '71496A', '71496B', '71510', '72051S', '72122', '72127', '72128', '72130', '72131', '72133', '72134', '72225C', '72349B', '72349b', '72351A', '72351B', '72351a', '72369A', '72586', '72598', '72741', '72760B', '72799C', '72799E', '72799F', '72800B', '72800C', '72800D', '72800E', '72801C', '72801D', '72801G', '72801d', '72802A', '72802B', '72802C', '72803A', '72807A', '72807B', '72807C', '72811', '72812', '72815', '72816', '72817', '72818', '72819', '75011', '75049L', '75131', '75172', '75178', '77101A', '78033', '78124', '79000', '79026B', '79030D', '79030G', '79051A', '79062D', '79063C', '79063D', '79066K', '79066k', '79067', '79144B', '79144C', '79160', '79163', '79164', '79190A', '79190B', '79190D', '79191B', '79191C', '79191D', '79302M', '79321', '79329', '79331', '79337', '79403', '79406', '81950V', '82001S', '82011B', '82011C', '82095', '82482', '82483', '82484', '82486', '82494L', '82494l', '82551', '82552', '82567', '82578', '82580', '82581', '82582', '82583', '82599', '82600', '82613A', '82613B', '82613C', '82613D', '82613b', '82613c', '82616B', '82616C', '84006', '84012', '84016', '84029E', '84029G', '84030E', '84030e', '84031A', '84031B', '84032A', '84032B', '84050', '84051', '84077', '84078A', '84086C', '84212', '84218', '84226', '84228', '84231', '84247E', '84247G', '84247L', '84249A', '84251B', '84251C', '84251G', '84279B', '84279P', '84306', '84313B', '84313C', '84341B', '84347', '84352', '84356', '84358', '84360', '84375', '84378', '84380', '84388', '84406B', '84415B', '84422', '84429A', '84457', '84459A', '84459B', '84507B', '84507C', '84508A', '84508C', '84509A', '84509B', '84509C', '84509E', '84509G', '84509c', '84510A', '84510C', '84510E', '84510a', '84510c', '84519A', '84519B', '84520B', '84522', '84527', '84531A', '84531B', '84534B', '84535A', '84535B', '84536A', '84536B', '84549', '84558A', '84558a', '84559A', '84559B', '84559a', '84559b', '84563A', '84563B', '84568', '84569A', '84569B', '84569D', '84575A', '84576', '84580', '84581', '84584', '84592', '84595E', '84596B', '84596E', '84596F', '84596G', '84596J', '84596L', '84598', '84600', '84609', '84616', '84625A', '84625C', '84629', '84631', '84637', '84638', '84658', '84659A', '84660A', '84660B', '84660C', '84660b', '84660c', '84661A', '84661B', '84661C', '84663A', '84673A', '84673B', '84674', '84678', '84679', '84683', '84685', '84686', '84687', '84688', '84689', '84691', '84692', '84706D', '84707A', '84707B', '84708B', '84711A', '84711B', '84712B', '84723', '84725', '84731', '84744', '84746', '84748', '84750B', '84751B', '84754', '84755', '84763', '84766', '84789', '84792', '84795B', '84795b', '84796A', '84796B', '84796a', '84799', '84800L', '84800M', '84800S', '84804A', '84804B', '84805A', '84805B', '84806A', '84806B', '84813', '84817', '84818', '84819', '84820', '84821', '84826', '84827', '84828', '84832', '84836', '84840', '84843', '84846A', '84849A', '84849B', '84849D', '84856L', '84857C', '84858C', '84859A', '84859B', '84859C', '84865', '84870B', '84870C', '84872A', '84872a', '84874B', '84875B', '84876B', '84876D', '84877A', '84877B', '84877D', '84879', '84880', '84881', '84882', '84884A', '84884a', '84898F', '84905', '84906', '84907', '84910A', '84912A', '84912B', '84913A', '84913B', '84915', '84916', '84917', '84919', '84920', '84922', '84923', '84924A', '84925F', '84926A', '84926D', '84926E', '84926F', '84927A', '84927D', '84927E', '84927F', '84929', '84931A', '84931B', '84944', '84945', '84946', '84947', '84949', '84950', '84951A', '84951B', '84952A', '84952B', '84952C', '84968A', '84968C', '84968D', '84968E', '84968F', '84968a', '84968e', '84969', '84970L', '84970S', '84970l', '84970s', '84971S', '84976', '84978', '84987', '84988', '84989a', '84991', '84992', '84993A', '84997A', '84997B', '84997C', '84997D', '84997b', '84997c', '84997d', '85006', '85008', '85014A', '85014B', '85014a', '85014b', '85015', '85016', '85017A', '85017B', '85017C', '85019A', '85019B', '85019C', '85020', '85023B', '85024B', '85025B', '85025C', '85026B', '85027L', '85028S', '85031A', '85032A', '85032B', '85032C', '85032D', '85034A', '85034B', '85034C', '85035A', '85035B', '85035C', '85036A', '85036B', '85036C', '85038', '85039A', '85039B', '85039C', '85039a', '85040A', '85040B', '85045', '85048', '85049A', '85049C', '85049D', '85049E', '85049F', '85049G', '85049H', '85049a', '85049e', '85049g', '85053', '85054', '85055', '85059', '85061W', '85062', '85064', '85066', '85067', '85071A', '85071B', '85071C', '85071D', '85078', '85086A', '85087', '85088', '85092', '85093', '85094', '85095', '85096', '85099B', '85099C', '85099F', '85099f', '85103', '85104', '85106', '85107', '85111', '85114A', '85114B', '85114C', '85114a', '85114b', '85114c', '85116', '85118', '85123A', '85123a', '85124B', '85124C', '85125', '85127', '85129B', '85129C', '85129D', '85130B', '85130C', '85130D', '85131A', '85131B', '85131C', '85131D', '85132A', '85132B', '85132C', '85132a', '85135B', '85135C', '85136A', '85136C', '85141', '85144', '85145', '85146', '85150', '85152', '85159A', '85159B', '85160B', '85161', '85163A', '85163B', '85167B', '85168B', '85169A', '85169B', '85169C', '85169D', '85170B', '85170C', '85170D', '85172', '85173', '85174', '85175', '85176', '85177', '85178', '85179A', '85179C', '85180A', '85180B', '85183A', '85183B', '85184C', '85185B', '85186A', '85186C', '85187', '85188A', '85188B', '85194L', '85194S', '85198', '85199L', '85199S', '85202', '85203', '85204', '85205B', '85206A', '85208', '85211', '85212', '85213', '85214', '85215', '85225', '85227', '85230A', '85230B', '85230E', '85230F', '85230G', '85231B', '85231G', '85231b', '85232A', '85232D', '90000A', '90000B', '90000D', '90001A', '90001B', '90001C', '90001D', '90002D', '90003B', '90003C', '90003D', '90003E', '90005A', '90010A', '90010B', '90010E', '90011A', '90011B', '90011D', '90011E', '90012A', '90012B', '90013A', '90013B', '90013C', '90013D', '90014A', '90014B', '90014C', '90016A', '90016B', '90018A', '90018B', '90018C', '90019A', '90019B', '90019C', '90022', '90023', '90024B', '90024C', '90024D', '90024E', '90024F', '90025F', '90026B', '90026C', '90027A', '90027B', '90027D', '90028', '90029', '90030B', '90030C', '90031', '90032', '90033', '90034', '90035A', '90036C', '90036D', '90036E', '90036F', '90037B', '90037C', '90038A', '90038B', '90038C', '90039A', '90039B', '90039C', '90039D', '90040A', '90040B', '90040C', '90041', '90043', '90049', '90050', '90051', '90053', '90054', '90055', '90056', '90057', '90059A', '90059B', '90059C', '90059D', '90059E', '90059F', '90060F', '90062', '90063B', '90064A', '90067A', '90070', '90071', '90072', '90073', '90074', '90075', '90076', '90077', '90079', '90081C', '90082A', '90082D', '90083', '90085', '90086', '90087', '90089', '90093', '90096', '90099', '90101', '90103', '90104', '90108', '90114', '90115', '90116', '90118', '90119', '90120A', '90120B', '90120C', '90120D', '90122A', '90122B', '90122C', '90123A', '90123B', '90123C', '90123D', '90124A', '90124B', '90124C', '90125A', '90125B', '90125C', '90125D', '90125E', '90128A', '90128B', '90128C', '90128D', '90129A', '90129B', '90129C', '90129D', '90129E', '90129F', '90130A', '90130B', '90130C', '90131', '90132', '90133', '90134', '90135', '90137', '90138', '90140', '90141A', '90141B', '90141C', '90141D', '90142D', '90143', '90144', '90145', '90146', '90147', '90148', '90149', '90152A', '90152B', '90154', '90155', '90157', '90158', '90159', '90160A', '90160B', '90160C', '90160D', '90161A', '90161B', '90161C', '90161D', '90163A', '90163B', '90164A', '90164B', '90165A', '90165B', '90166', '90168', '90169', '90170', '90173', '90174', '90175A', '90175B', '90175D', '90176A', '90176B', '90176C', '90176E', '90177A', '90177B', '90177C', '90177D', '90177E', '90178A', '90179A', '90179B', '90179C', '90180A', '90180B', '90181A', '90181B', '90182C', '90183A', '90183B', '90183C', '90184A', '90184B', '90184C', '90185A', '90185B', '90185C', '90185D', '90186A', '90186B', '90187B', '90188', '90190A', '90190B', '90190C', '90191', '90192', '90194', '90195A', '90195B', '90196B', '90197B', '90198A', '90198B', '90199A', '90199B', '90199C', '90199D', '90200A', '90200B', '90200C', '90200D', '90200E', '90201A', '90201B', '90201C', '90201D', '90202A', '90202B', '90202C', '90202D', '90204', '90205A', '90205C', '90206A', '90206C', '90208', '90209A', '90209B', '90209C', '90210A', '90210B', '90210C', '90210D', '90211A', '90211B', '90212B', '90214A', '90214B', '90214C', '90214D', '90214E', '90214F', '90214G', '90214H', '90214I', '90214J', '90214K', '90214L', '90214M', '90214N', '90214O', '90214P', '90214R', '90214S', '90214T', '90214V', '90214W', '90214Y', '90214Z', 'AMAZONFEE', 'BANK CHARGES', 'C2', 'DCGS0003', 'DCGSSBOY', 'DCGSSGIRL', 'DOT', 'M', 'POST', 'S', 'gift_0001_20', 'gift_0001_30', 'gift_0001_40', 'gift_0001_50']\n"
          ]
        }
      ],
      "source": [
        "stockcodes_multiple_prices = df_copy.groupby('StockCode')['UnitPrice'].nunique()\n",
        "stockcodes_with_varied_prices = stockcodes_multiple_prices[stockcodes_multiple_prices > 1].index.tolist()\n",
        "print(\"StockCodes with different UnitPrices:\", stockcodes_with_varied_prices)"
      ]
    },
    {
      "cell_type": "markdown",
      "metadata": {},
      "source": [
        "---"
      ]
    },
    {
      "cell_type": "markdown",
      "metadata": {},
      "source": [
        "# Marketing strategies"
      ]
    },
    {
      "cell_type": "markdown",
      "metadata": {},
      "source": [
        "* We check which Countries it will be beneficial to focus marketing on \n"
      ]
    },
    {
      "cell_type": "code",
      "execution_count": 128,
      "metadata": {},
      "outputs": [
        {
          "data": {
            "image/png": "[encoded data removed]",
            "text/plain": [
              "<Figure size 400x200 with 1 Axes>"
            ]
          },
          "metadata": {},
          "output_type": "display_data"
        }
      ],
      "source": [
        "top_countries = df_copy['Country'].value_counts().head(10)\n",
        "plt.figure(figsize=(4,2))\n",
        "top_countries.plot(kind='bar')\n",
        "plt.title('Top 10 Countries by Number of Orders')\n",
        "plt.xlabel('Country')\n",
        "plt.ylabel('Order Count')\n",
        "plt.show()"
      ]
    },
    {
      "cell_type": "markdown",
      "metadata": {},
      "source": [
        "* EMERGING MARKETS"
      ]
    },
    {
      "cell_type": "markdown",
      "metadata": {},
      "source": [
        "* We can see there is a large Increase in orders from 2010 to 2011"
      ]
    },
    {
      "cell_type": "code",
      "execution_count": 151,
      "metadata": {},
      "outputs": [
        {
          "name": "stdout",
          "output_type": "stream",
          "text": [
            "Number of orders in 2010: 41480\n"
          ]
        }
      ],
      "source": [
        "#count number of rows where year is 2010\n",
        "count_2010 = df_copy[df_copy['InvoiceDate'].dt.year == 2010].shape[0]\n",
        "print(f\"Number of orders in 2010: {count_2010}\")"
      ]
    },
    {
      "cell_type": "code",
      "execution_count": 138,
      "metadata": {},
      "outputs": [
        {
          "name": "stdout",
          "output_type": "stream",
          "text": [
            "Number of orders in 2011: 488624\n"
          ]
        }
      ],
      "source": [
        "#count number of rows where year is 2011\n",
        "count_2011 = df_copy[df_copy['InvoiceDate'].dt.year == 2011].shape[0]\n",
        "print(f\"Number of orders in 2011: {count_2011}\")"
      ]
    },
    {
      "cell_type": "markdown",
      "metadata": {},
      "source": [
        "*We check for Countries and their Order counts for both years"
      ]
    },
    {
      "cell_type": "code",
      "execution_count": 150,
      "metadata": {},
      "outputs": [
        {
          "name": "stdout",
          "output_type": "stream",
          "text": [
            "            Country  OrderCount\n",
            "22   United Kingdom       39224\n",
            "10          Germany         512\n",
            "9            France         434\n",
            "7              EIRE         373\n",
            "16           Norway         147\n",
            "18         Portugal         116\n",
            "3           Belgium          95\n",
            "5            Cyprus          83\n",
            "19            Spain          75\n",
            "15      Netherlands          72\n",
            "13            Japan          65\n",
            "21      Switzerland          49\n",
            "12            Italy          40\n",
            "14        Lithuania          35\n",
            "0         Australia          32\n",
            "11          Iceland          31\n",
            "20           Sweden          26\n",
            "6           Denmark          20\n",
            "8           Finland          17\n",
            "4   Channel Islands          17\n",
            "1           Austria           8\n",
            "17           Poland           8\n",
            "2           Bahrain           1\n"
          ]
        }
      ],
      "source": [
        "country_order_count_2010 = df_copy[df_copy['InvoiceDate'].dt.year == 2010].groupby('Country').size().reset_index(name='OrderCount')\n",
        "country_order_count_2010 = country_order_count_2010.sort_values(by='OrderCount', ascending=False)\n",
        "print(country_order_count_2010)"
      ]
    },
    {
      "cell_type": "code",
      "execution_count": 142,
      "metadata": {},
      "outputs": [
        {
          "name": "stdout",
          "output_type": "stream",
          "text": [
            "                 Country  OrderCount\n",
            "35        United Kingdom      445899\n",
            "14               Germany        8528\n",
            "13                France        7973\n",
            "10                  EIRE        7517\n",
            "30                 Spain        2409\n",
            "23           Netherlands        2287\n",
            "3                Belgium        1936\n",
            "32           Switzerland        1917\n",
            "26              Portugal        1385\n",
            "0              Australia        1150\n",
            "24                Norway         924\n",
            "6        Channel Islands         731\n",
            "19                 Italy         718\n",
            "12               Finland         668\n",
            "7                 Cyprus         531\n",
            "36           Unspecified         446\n",
            "31                Sweden         425\n",
            "1                Austria         390\n",
            "9                Denmark         360\n",
            "25                Poland         322\n",
            "18                Israel         295\n",
            "16             Hong Kong         284\n",
            "20                 Japan         256\n",
            "29             Singapore         222\n",
            "33                   USA         179\n",
            "17               Iceland         151\n",
            "5                 Canada         151\n",
            "15                Greece         145\n",
            "22                 Malta         112\n",
            "34  United Arab Emirates          68\n",
            "11    European Community          60\n",
            "27                   RSA          57\n",
            "21               Lebanon          45\n",
            "4                 Brazil          32\n",
            "8         Czech Republic          25\n",
            "2                Bahrain          17\n",
            "28          Saudi Arabia           9\n"
          ]
        }
      ],
      "source": [
        "#count number of orders in 2011 for each country and sort by OrderCount\n",
        "country_order_count_2011 = df_copy[df_copy['InvoiceDate'].dt.year == 2011].groupby('Country').size().reset_index(name='OrderCount')\n",
        "country_order_count_2011 = country_order_count_2011.sort_values(by='OrderCount', ascending=False)\n",
        "print(country_order_count_2011)\n"
      ]
    },
    {
      "cell_type": "markdown",
      "metadata": {},
      "source": [
        "*Then We Calculate the percentage Increase from 2010 to 2011 to find emerging markets "
      ]
    },
    {
      "cell_type": "code",
      "execution_count": 172,
      "metadata": {},
      "outputs": [
        {
          "name": "stdout",
          "output_type": "stream",
          "text": [
            "                 Country  OrderCount_2010  OrderCount_2011  PercentageIncrease\n",
            "1                Austria              8.0            390.0                4775\n",
            "4        Channel Islands             17.0            731.0                4200\n",
            "17                Poland              8.0            322.0                3925\n",
            "8                Finland             17.0            668.0                3829\n",
            "21           Switzerland             49.0           1917.0                3812\n",
            "0              Australia             32.0           1150.0                3494\n",
            "19                 Spain             75.0           2409.0                3112\n",
            "15           Netherlands             72.0           2287.0                3076\n",
            "3                Belgium             95.0           1936.0                1938\n",
            "7                   EIRE            373.0           7517.0                1915\n",
            "9                 France            434.0           7973.0                1737\n",
            "6                Denmark             20.0            360.0                1700\n",
            "12                 Italy             40.0            718.0                1695\n",
            "2                Bahrain              1.0             17.0                1600\n",
            "10               Germany            512.0           8528.0                1566\n",
            "20                Sweden             26.0            425.0                1535\n",
            "18              Portugal            116.0           1385.0                1094\n",
            "22        United Kingdom          39224.0         445899.0                1037\n",
            "5                 Cyprus             83.0            531.0                 540\n",
            "16                Norway            147.0            924.0                 529\n",
            "11               Iceland             31.0            151.0                 387\n",
            "13                 Japan             65.0            256.0                 294\n",
            "14             Lithuania             35.0              0.0                -100\n",
            "23                Brazil              0.0             32.0                <NA>\n",
            "24                Canada              0.0            151.0                <NA>\n",
            "25        Czech Republic              0.0             25.0                <NA>\n",
            "26    European Community              0.0             60.0                <NA>\n",
            "27                Greece              0.0            145.0                <NA>\n",
            "28             Hong Kong              0.0            284.0                <NA>\n",
            "29                Israel              0.0            295.0                <NA>\n",
            "30               Lebanon              0.0             45.0                <NA>\n",
            "31                 Malta              0.0            112.0                <NA>\n",
            "32                   RSA              0.0             57.0                <NA>\n",
            "33          Saudi Arabia              0.0              9.0                <NA>\n",
            "34             Singapore              0.0            222.0                <NA>\n",
            "35                   USA              0.0            179.0                <NA>\n",
            "36  United Arab Emirates              0.0             68.0                <NA>\n",
            "37           Unspecified              0.0            446.0                <NA>\n"
          ]
        }
      ],
      "source": [
        "# Calculate percentage increase in orders per Country from 2010 to 2011 and round to whole number\n",
        "\n",
        "orders_2010 = df_copy[df_copy['InvoiceDate'].dt.year == 2010].groupby('Country').size().reset_index(name='OrderCount_2010')\n",
        "orders_2011 = df_copy[df_copy['InvoiceDate'].dt.year == 2011].groupby('Country').size().reset_index(name='OrderCount_2011')\n",
        "\n",
        "orders = pd.merge(orders_2010, orders_2011, on='Country', how='outer').fillna(0)\n",
        "\n",
        "num = orders['OrderCount_2011'] - orders['OrderCount_2010']\n",
        "den = orders['OrderCount_2010'].replace(0, pd.NA)  # avoid div-by-zero → NA\n",
        "\n",
        "# keep as nullable float, then round, then cast to nullable int\n",
        "orders['PercentageIncrease'] = (num / den * 100).astype('Float64')\n",
        "orders['PercentageIncrease'] = orders['PercentageIncrease'].round(0).astype('Int64')\n",
        "\n",
        "print(orders[['Country','OrderCount_2010','OrderCount_2011','PercentageIncrease']].sort_values(by='PercentageIncrease', ascending=False))"
      ]
    },
    {
      "cell_type": "code",
      "execution_count": 186,
      "metadata": {},
      "outputs": [
        {
          "data": {
            "text/plain": [
              "<Figure size 1000x1000 with 0 Axes>"
            ]
          },
          "metadata": {},
          "output_type": "display_data"
        },
        {
          "data": {
            "image/png": "[encoded data removed]",
            "text/plain": [
              "<Figure size 640x480 with 1 Axes>"
            ]
          },
          "metadata": {},
          "output_type": "display_data"
        }
      ],
      "source": [
        "# Plot a horizontal bar chart of Percentage Increase in Orders by Country for top 25 countries\n",
        "plt.figure(figsize=(10, 10)) \n",
        "plt.show(orders.head(25).sort_values(by='PercentageIncrease', ascending=False).plot(kind='barh', x='Country', y='PercentageIncrease', legend=False)) "
      ]
    },
    {
      "cell_type": "markdown",
      "metadata": {},
      "source": [
        "* From the table and chart, we can see that Markets like Austria, Channel Islands, Poland, Finland, Switzerland have a higher percentage increase in Orders from 2010 to 2012, while UK has a by far a conistent higher order count.\n",
        "\n",
        "* Thus, we can recommend a 70:30 split in mraeting budget, with 70 going to Top order markets and 30 percent to high growth markets. \n"
      ]
    },
    {
      "cell_type": "markdown",
      "metadata": {},
      "source": [
        "* Increase marketing in the 4th Quater of the Year as that is the highest sales period"
      ]
    },
    {
      "cell_type": "code",
      "execution_count": 229,
      "metadata": {},
      "outputs": [
        {
          "data": {
            "image/png": "[encoded data removed]",
            "text/plain": [
              "<Figure size 500x300 with 1 Axes>"
            ]
          },
          "metadata": {},
          "output_type": "display_data"
        }
      ],
      "source": [
        "# line chart of monthly purchases\n",
        "plt.figure(figsize=(5,3)) \n",
        "plt.show(monthly_purchases.plot(kind='line', marker='o'))   "
      ]
    },
    {
      "cell_type": "markdown",
      "metadata": {
        "id": "ltNetd085qHf"
      },
      "source": [
        "# Push files to Repo"
      ]
    },
    {
      "cell_type": "markdown",
      "metadata": {},
      "source": [
        "* In cases where you don't need to push files to Repo, you may replace this section with \"Conclusions and Next Steps\" and state your conclusions and next steps."
      ]
    },
    {
      "cell_type": "markdown",
      "metadata": {},
      "source": [
        "# Section 2"
      ]
    },
    {
      "cell_type": "markdown",
      "metadata": {},
      "source": [
        "Section 2 content"
      ]
    },
    {
      "cell_type": "code",
      "execution_count": null,
      "metadata": {},
      "outputs": [],
      "source": []
    },
    {
      "cell_type": "markdown",
      "metadata": {},
      "source": [
        "---"
      ]
    },
    {
      "cell_type": "markdown",
      "metadata": {},
      "source": [
        "NOTE"
      ]
    },
    {
      "cell_type": "markdown",
      "metadata": {},
      "source": [
        "* You may add as many sections as you want, as long as it supports your project workflow.\n",
        "* All notebook's cells should be run top-down (you can't create a dynamic wherein a given point you need to go back to a previous cell to execute some task, like go back to a previous cell and refresh a variable content)"
      ]
    },
    {
      "cell_type": "markdown",
      "metadata": {},
      "source": [
        "---"
      ]
    },
    {
      "cell_type": "code",
      "execution_count": null,
      "metadata": {
        "id": "aKlnIozA4eQO",
        "outputId": "fd09bc1f-adb1-4511-f6ce-492a6af570c0"
      },
      "outputs": [],
      "source": [
        "import os\n",
        "try:\n",
        "  # create your folder here\n",
        "  # os.makedirs(name='')\n",
        "except Exception as e:\n",
        "  print(e)\n"
      ]
    }
  ],
  "metadata": {
    "accelerator": "GPU",
    "colab": {
      "name": "Data Practitioner Jupyter Notebook.ipynb",
      "provenance": [],
      "toc_visible": true
    },
    "kernelspec": {
      "display_name": ".venv (3.12.8)",
      "language": "python",
      "name": "python3"
    },
    "language_info": {
      "codemirror_mode": {
        "name": "ipython",
        "version": 3
      },
      "file_extension": ".py",
      "mimetype": "text/x-python",
      "name": "python",
      "nbconvert_exporter": "python",
      "pygments_lexer": "ipython3",
      "version": "3.12.8"
    },
    "orig_nbformat": 2
  },
  "nbformat": 4,
  "nbformat_minor": 2
}
