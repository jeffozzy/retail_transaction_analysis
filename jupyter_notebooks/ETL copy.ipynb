{
  "cells": [
    {
      "cell_type": "markdown",
      "metadata": {
        "id": "0aStgWSO0E0E"
      },
      "source": [
        "# **Online Retail Transactions**"
      ]
    },
    {
      "cell_type": "markdown",
      "metadata": {
        "id": "1eLEkw5O0ECa"
      },
      "source": [
        "## Objectives\n",
        "\n",
        "* Analyse customer behaviour and preferences, identify popular products, and optimise pricing and marketing strategies.\n",
        "\n",
        "## Inputs\n",
        "\n",
        "* Data Source:  https://www.kaggle.com/datasets/abhishekrp1517/online-retail-transactions-dataset/data\n",
        "\n",
        "## Outputs\n",
        "\n",
        "* A Jupyter Noteboo file (ETL.ipynb) to show the analysis of data\n",
        "* Code that advises on how to Optimze pricing and predicts possible succesful marketing strategies\n",
        "\n",
        "\n",
        "\n"
      ]
    },
    {
      "cell_type": "markdown",
      "metadata": {
        "id": "9uWZXH9LwoQg"
      },
      "source": [
        "---"
      ]
    },
    {
      "cell_type": "markdown",
      "metadata": {
        "id": "cqP-UeN-z3i2"
      },
      "source": [
        "# Working directory"
      ]
    },
    {
      "cell_type": "markdown",
      "metadata": {},
      "source": [
        "* Changed the working directory from its current folder to its parent folder"
      ]
    },
    {
      "cell_type": "markdown",
      "metadata": {
        "id": "aOGIGS-uz3i2"
      },
      "source": [
        "\n",
        "* Access the current directory with os.getcwd()"
      ]
    },
    {
      "cell_type": "code",
      "execution_count": 4,
      "metadata": {
        "id": "wZfF_j-Bz3i4",
        "outputId": "66943449-1436-4c3d-85c7-b85f9f78349b"
      },
      "outputs": [
        {
          "data": {
            "text/plain": [
              "'c:\\\\Users\\\\jeff .LAPTOP-IGU6VVPB\\\\Desktop\\\\Code institute\\\\vscode-projects\\\\hackathon 1\\\\retail_transaction_analysis\\\\jupyter_notebooks'"
            ]
          },
          "execution_count": 4,
          "metadata": {},
          "output_type": "execute_result"
        }
      ],
      "source": [
        "import os\n",
        "current_dir = os.getcwd()\n",
        "current_dir"
      ]
    },
    {
      "cell_type": "markdown",
      "metadata": {
        "id": "9MWW8E7lz3i7"
      },
      "source": [
        "We want to make the parent of the current directory the new current directory\n",
        "* os.path.dirname() gets the parent directory\n",
        "* os.chir() defines the new current directory"
      ]
    },
    {
      "cell_type": "code",
      "execution_count": 5,
      "metadata": {
        "id": "TwHsQRWjz3i9",
        "outputId": "86849db3-cd2f-4cc5-ebb8-2d0caafa1a2c"
      },
      "outputs": [
        {
          "name": "stdout",
          "output_type": "stream",
          "text": [
            "You set a new current directory\n"
          ]
        }
      ],
      "source": [
        "os.chdir(os.path.dirname(current_dir))\n",
        "print(\"You set a new current directory\")"
      ]
    },
    {
      "cell_type": "markdown",
      "metadata": {
        "id": "M_xPk_Ijz3i-"
      },
      "source": [
        "Confirm the new current directory"
      ]
    },
    {
      "cell_type": "code",
      "execution_count": 6,
      "metadata": {
        "id": "vz3S-_kjz3jA",
        "outputId": "00b79ae4-75d0-4a96-d193-ac9ef9847ea2"
      },
      "outputs": [
        {
          "data": {
            "text/plain": [
              "'c:\\\\Users\\\\jeff .LAPTOP-IGU6VVPB\\\\Desktop\\\\Code institute\\\\vscode-projects\\\\hackathon 1\\\\retail_transaction_analysis'"
            ]
          },
          "execution_count": 6,
          "metadata": {},
          "output_type": "execute_result"
        }
      ],
      "source": [
        "current_dir = os.getcwd()\n",
        "current_dir"
      ]
    },
    {
      "cell_type": "markdown",
      "metadata": {
        "id": "-mavJ8DibrcQ"
      },
      "source": [
        "# Data Extraction, Transformation, and Loading (ETL)"
      ]
    },
    {
      "cell_type": "markdown",
      "metadata": {},
      "source": [
        "Importing packages"
      ]
    },
    {
      "cell_type": "code",
      "execution_count": 247,
      "metadata": {},
      "outputs": [],
      "source": [
        "#Setting up & Importing packages\n",
        "\n",
        "import matplotlib.pyplot as plt\n",
        "import pandas as pd\n",
        "import numpy as np\n",
        "sns.set_style('whitegrid')\n",
        "from sklearn.pipeline import Pipeline\n"
      ]
    },
    {
      "cell_type": "markdown",
      "metadata": {},
      "source": [
        "* Extracting the data"
      ]
    },
    {
      "cell_type": "code",
      "execution_count": 10,
      "metadata": {},
      "outputs": [],
      "source": [
        "#loading the data\n",
        "df = pd.read_csv('jupyter_notebooks/Online Retail.csv')\n",
        "df_copy = df.copy()"
      ]
    },
    {
      "cell_type": "markdown",
      "metadata": {
        "id": "ZY3l0-AxO93d"
      },
      "source": [
        "---"
      ]
    },
    {
      "cell_type": "markdown",
      "metadata": {
        "id": "uFQo3ycuO-v6"
      },
      "source": [
        "* Cleaning the data"
      ]
    },
    {
      "cell_type": "markdown",
      "metadata": {},
      "source": [
        "Section 2 content"
      ]
    },
    {
      "cell_type": "code",
      "execution_count": 11,
      "metadata": {},
      "outputs": [
        {
          "data": {
            "text/html": [
              "<div>\n",
              "<style scoped>\n",
              "    .dataframe tbody tr th:only-of-type {\n",
              "        vertical-align: middle;\n",
              "    }\n",
              "\n",
              "    .dataframe tbody tr th {\n",
              "        vertical-align: top;\n",
              "    }\n",
              "\n",
              "    .dataframe thead th {\n",
              "        text-align: right;\n",
              "    }\n",
              "</style>\n",
              "<table border=\"1\" class=\"dataframe\">\n",
              "  <thead>\n",
              "    <tr style=\"text-align: right;\">\n",
              "      <th></th>\n",
              "      <th>InvoiceNo</th>\n",
              "      <th>StockCode</th>\n",
              "      <th>Description</th>\n",
              "      <th>Quantity</th>\n",
              "      <th>InvoiceDate</th>\n",
              "      <th>UnitPrice</th>\n",
              "      <th>CustomerID</th>\n",
              "      <th>Country</th>\n",
              "    </tr>\n",
              "  </thead>\n",
              "  <tbody>\n",
              "    <tr>\n",
              "      <th>0</th>\n",
              "      <td>536365</td>\n",
              "      <td>85123A</td>\n",
              "      <td>WHITE HANGING HEART T-LIGHT HOLDER</td>\n",
              "      <td>6</td>\n",
              "      <td>2010-12-01 08:26:00</td>\n",
              "      <td>2.55</td>\n",
              "      <td>17850</td>\n",
              "      <td>United Kingdom</td>\n",
              "    </tr>\n",
              "    <tr>\n",
              "      <th>1</th>\n",
              "      <td>536365</td>\n",
              "      <td>71053</td>\n",
              "      <td>WHITE METAL LANTERN</td>\n",
              "      <td>6</td>\n",
              "      <td>2010-12-01 08:26:00</td>\n",
              "      <td>3.39</td>\n",
              "      <td>17850</td>\n",
              "      <td>United Kingdom</td>\n",
              "    </tr>\n",
              "    <tr>\n",
              "      <th>2</th>\n",
              "      <td>536365</td>\n",
              "      <td>84406B</td>\n",
              "      <td>CREAM CUPID HEARTS COAT HANGER</td>\n",
              "      <td>8</td>\n",
              "      <td>2010-12-01 08:26:00</td>\n",
              "      <td>2.75</td>\n",
              "      <td>17850</td>\n",
              "      <td>United Kingdom</td>\n",
              "    </tr>\n",
              "    <tr>\n",
              "      <th>3</th>\n",
              "      <td>536365</td>\n",
              "      <td>84029G</td>\n",
              "      <td>KNITTED UNION FLAG HOT WATER BOTTLE</td>\n",
              "      <td>6</td>\n",
              "      <td>2010-12-01 08:26:00</td>\n",
              "      <td>3.39</td>\n",
              "      <td>17850</td>\n",
              "      <td>United Kingdom</td>\n",
              "    </tr>\n",
              "    <tr>\n",
              "      <th>4</th>\n",
              "      <td>536365</td>\n",
              "      <td>84029E</td>\n",
              "      <td>RED WOOLLY HOTTIE WHITE HEART.</td>\n",
              "      <td>6</td>\n",
              "      <td>2010-12-01 08:26:00</td>\n",
              "      <td>3.39</td>\n",
              "      <td>17850</td>\n",
              "      <td>United Kingdom</td>\n",
              "    </tr>\n",
              "  </tbody>\n",
              "</table>\n",
              "</div>"
            ],
            "text/plain": [
              "  InvoiceNo StockCode                          Description  Quantity  \\\n",
              "0    536365    85123A   WHITE HANGING HEART T-LIGHT HOLDER         6   \n",
              "1    536365     71053                  WHITE METAL LANTERN         6   \n",
              "2    536365    84406B       CREAM CUPID HEARTS COAT HANGER         8   \n",
              "3    536365    84029G  KNITTED UNION FLAG HOT WATER BOTTLE         6   \n",
              "4    536365    84029E       RED WOOLLY HOTTIE WHITE HEART.         6   \n",
              "\n",
              "           InvoiceDate  UnitPrice  CustomerID         Country  \n",
              "0  2010-12-01 08:26:00       2.55       17850  United Kingdom  \n",
              "1  2010-12-01 08:26:00       3.39       17850  United Kingdom  \n",
              "2  2010-12-01 08:26:00       2.75       17850  United Kingdom  \n",
              "3  2010-12-01 08:26:00       3.39       17850  United Kingdom  \n",
              "4  2010-12-01 08:26:00       3.39       17850  United Kingdom  "
            ]
          },
          "execution_count": 11,
          "metadata": {},
          "output_type": "execute_result"
        }
      ],
      "source": [
        "df_copy.head()"
      ]
    },
    {
      "cell_type": "markdown",
      "metadata": {},
      "source": [
        "---"
      ]
    },
    {
      "cell_type": "code",
      "execution_count": 13,
      "metadata": {},
      "outputs": [
        {
          "data": {
            "text/plain": [
              "InvoiceNo         0\n",
              "StockCode         0\n",
              "Description    1454\n",
              "Quantity          0\n",
              "InvoiceDate       0\n",
              "UnitPrice         0\n",
              "CustomerID        0\n",
              "Country           0\n",
              "dtype: int64"
            ]
          },
          "execution_count": 13,
          "metadata": {},
          "output_type": "execute_result"
        }
      ],
      "source": [
        "df_copy.isnull().sum()"
      ]
    },
    {
      "cell_type": "code",
      "execution_count": 16,
      "metadata": {},
      "outputs": [
        {
          "name": "stderr",
          "output_type": "stream",
          "text": [
            "C:\\Users\\jeff .LAPTOP-IGU6VVPB\\AppData\\Local\\Temp\\ipykernel_12404\\293228325.py:1: FutureWarning: Series.fillna with 'method' is deprecated and will raise in a future version. Use obj.ffill() or obj.bfill() instead.\n",
            "  df_copy['Description'] = df_copy.groupby('StockCode')['Description'].transform(lambda x: x.fillna(method='ffill').fillna(method='bfill'))\n"
          ]
        }
      ],
      "source": [
        "#Fill missing Description values using StockCode group where it is possible\n",
        "\n",
        "df_copy['Description'] = df_copy.groupby('StockCode')['Description'].transform(lambda x: x.fillna(method='ffill').fillna(method='bfill'))\n"
      ]
    },
    {
      "cell_type": "code",
      "execution_count": 17,
      "metadata": {},
      "outputs": [
        {
          "data": {
            "text/plain": [
              "112"
            ]
          },
          "execution_count": 17,
          "metadata": {},
          "output_type": "execute_result"
        }
      ],
      "source": [
        "#check if there are still missing values in Description\n",
        "df_copy['Description'].isnull().sum()"
      ]
    },
    {
      "cell_type": "code",
      "execution_count": 18,
      "metadata": {},
      "outputs": [
        {
          "data": {
            "text/html": [
              "<div>\n",
              "<style scoped>\n",
              "    .dataframe tbody tr th:only-of-type {\n",
              "        vertical-align: middle;\n",
              "    }\n",
              "\n",
              "    .dataframe tbody tr th {\n",
              "        vertical-align: top;\n",
              "    }\n",
              "\n",
              "    .dataframe thead th {\n",
              "        text-align: right;\n",
              "    }\n",
              "</style>\n",
              "<table border=\"1\" class=\"dataframe\">\n",
              "  <thead>\n",
              "    <tr style=\"text-align: right;\">\n",
              "      <th></th>\n",
              "      <th>InvoiceNo</th>\n",
              "      <th>StockCode</th>\n",
              "      <th>Description</th>\n",
              "      <th>Quantity</th>\n",
              "      <th>InvoiceDate</th>\n",
              "      <th>UnitPrice</th>\n",
              "      <th>CustomerID</th>\n",
              "      <th>Country</th>\n",
              "    </tr>\n",
              "  </thead>\n",
              "  <tbody>\n",
              "    <tr>\n",
              "      <th>1970</th>\n",
              "      <td>536545</td>\n",
              "      <td>21134</td>\n",
              "      <td>NaN</td>\n",
              "      <td>1</td>\n",
              "      <td>2010-12-01 14:32:00</td>\n",
              "      <td>0.0</td>\n",
              "      <td>15287</td>\n",
              "      <td>United Kingdom</td>\n",
              "    </tr>\n",
              "    <tr>\n",
              "      <th>1987</th>\n",
              "      <td>536549</td>\n",
              "      <td>85226A</td>\n",
              "      <td>NaN</td>\n",
              "      <td>1</td>\n",
              "      <td>2010-12-01 14:34:00</td>\n",
              "      <td>0.0</td>\n",
              "      <td>15287</td>\n",
              "      <td>United Kingdom</td>\n",
              "    </tr>\n",
              "    <tr>\n",
              "      <th>1988</th>\n",
              "      <td>536550</td>\n",
              "      <td>85044</td>\n",
              "      <td>NaN</td>\n",
              "      <td>1</td>\n",
              "      <td>2010-12-01 14:34:00</td>\n",
              "      <td>0.0</td>\n",
              "      <td>15287</td>\n",
              "      <td>United Kingdom</td>\n",
              "    </tr>\n",
              "    <tr>\n",
              "      <th>2024</th>\n",
              "      <td>536552</td>\n",
              "      <td>20950</td>\n",
              "      <td>NaN</td>\n",
              "      <td>1</td>\n",
              "      <td>2010-12-01 14:34:00</td>\n",
              "      <td>0.0</td>\n",
              "      <td>15287</td>\n",
              "      <td>United Kingdom</td>\n",
              "    </tr>\n",
              "    <tr>\n",
              "      <th>2026</th>\n",
              "      <td>536554</td>\n",
              "      <td>84670</td>\n",
              "      <td>NaN</td>\n",
              "      <td>23</td>\n",
              "      <td>2010-12-01 14:35:00</td>\n",
              "      <td>0.0</td>\n",
              "      <td>15287</td>\n",
              "      <td>United Kingdom</td>\n",
              "    </tr>\n",
              "    <tr>\n",
              "      <th>...</th>\n",
              "      <td>...</td>\n",
              "      <td>...</td>\n",
              "      <td>...</td>\n",
              "      <td>...</td>\n",
              "      <td>...</td>\n",
              "      <td>...</td>\n",
              "      <td>...</td>\n",
              "      <td>...</td>\n",
              "    </tr>\n",
              "    <tr>\n",
              "      <th>280754</th>\n",
              "      <td>561498</td>\n",
              "      <td>21610</td>\n",
              "      <td>NaN</td>\n",
              "      <td>-14</td>\n",
              "      <td>2011-07-27 14:10:00</td>\n",
              "      <td>0.0</td>\n",
              "      <td>15287</td>\n",
              "      <td>United Kingdom</td>\n",
              "    </tr>\n",
              "    <tr>\n",
              "      <th>281615</th>\n",
              "      <td>561555</td>\n",
              "      <td>37477B</td>\n",
              "      <td>NaN</td>\n",
              "      <td>-11</td>\n",
              "      <td>2011-07-28 10:21:00</td>\n",
              "      <td>0.0</td>\n",
              "      <td>15287</td>\n",
              "      <td>United Kingdom</td>\n",
              "    </tr>\n",
              "    <tr>\n",
              "      <th>281616</th>\n",
              "      <td>561557</td>\n",
              "      <td>37477C</td>\n",
              "      <td>NaN</td>\n",
              "      <td>-31</td>\n",
              "      <td>2011-07-28 10:21:00</td>\n",
              "      <td>0.0</td>\n",
              "      <td>15287</td>\n",
              "      <td>United Kingdom</td>\n",
              "    </tr>\n",
              "    <tr>\n",
              "      <th>346849</th>\n",
              "      <td>567207</td>\n",
              "      <td>35592T</td>\n",
              "      <td>NaN</td>\n",
              "      <td>4</td>\n",
              "      <td>2011-09-19 11:01:00</td>\n",
              "      <td>0.0</td>\n",
              "      <td>15287</td>\n",
              "      <td>United Kingdom</td>\n",
              "    </tr>\n",
              "    <tr>\n",
              "      <th>497301</th>\n",
              "      <td>578360</td>\n",
              "      <td>84971L</td>\n",
              "      <td>NaN</td>\n",
              "      <td>2</td>\n",
              "      <td>2011-11-24 10:36:00</td>\n",
              "      <td>0.0</td>\n",
              "      <td>15287</td>\n",
              "      <td>United Kingdom</td>\n",
              "    </tr>\n",
              "  </tbody>\n",
              "</table>\n",
              "<p>112 rows × 8 columns</p>\n",
              "</div>"
            ],
            "text/plain": [
              "       InvoiceNo StockCode Description  Quantity          InvoiceDate  \\\n",
              "1970      536545     21134         NaN         1  2010-12-01 14:32:00   \n",
              "1987      536549    85226A         NaN         1  2010-12-01 14:34:00   \n",
              "1988      536550     85044         NaN         1  2010-12-01 14:34:00   \n",
              "2024      536552     20950         NaN         1  2010-12-01 14:34:00   \n",
              "2026      536554     84670         NaN        23  2010-12-01 14:35:00   \n",
              "...          ...       ...         ...       ...                  ...   \n",
              "280754    561498     21610         NaN       -14  2011-07-27 14:10:00   \n",
              "281615    561555    37477B         NaN       -11  2011-07-28 10:21:00   \n",
              "281616    561557    37477C         NaN       -31  2011-07-28 10:21:00   \n",
              "346849    567207    35592T         NaN         4  2011-09-19 11:01:00   \n",
              "497301    578360    84971L         NaN         2  2011-11-24 10:36:00   \n",
              "\n",
              "        UnitPrice  CustomerID         Country  \n",
              "1970          0.0       15287  United Kingdom  \n",
              "1987          0.0       15287  United Kingdom  \n",
              "1988          0.0       15287  United Kingdom  \n",
              "2024          0.0       15287  United Kingdom  \n",
              "2026          0.0       15287  United Kingdom  \n",
              "...           ...         ...             ...  \n",
              "280754        0.0       15287  United Kingdom  \n",
              "281615        0.0       15287  United Kingdom  \n",
              "281616        0.0       15287  United Kingdom  \n",
              "346849        0.0       15287  United Kingdom  \n",
              "497301        0.0       15287  United Kingdom  \n",
              "\n",
              "[112 rows x 8 columns]"
            ]
          },
          "execution_count": 18,
          "metadata": {},
          "output_type": "execute_result"
        }
      ],
      "source": [
        "#View rows where Description is still missing\n",
        "missing_description_rows = df_copy[df_copy['Description'].isnull()]\n",
        "missing_description_rows"
      ]
    },
    {
      "cell_type": "code",
      "execution_count": 19,
      "metadata": {},
      "outputs": [
        {
          "name": "stderr",
          "output_type": "stream",
          "text": [
            "<>:1: SyntaxWarning: invalid escape sequence '\\?'\n",
            "<>:1: SyntaxWarning: invalid escape sequence '\\?'\n",
            "C:\\Users\\jeff .LAPTOP-IGU6VVPB\\AppData\\Local\\Temp\\ipykernel_12404\\3318850241.py:1: SyntaxWarning: invalid escape sequence '\\?'\n",
            "  df_copy[df_copy['Description'].str.contains('\\?', na=False)]\n"
          ]
        },
        {
          "data": {
            "text/html": [
              "<div>\n",
              "<style scoped>\n",
              "    .dataframe tbody tr th:only-of-type {\n",
              "        vertical-align: middle;\n",
              "    }\n",
              "\n",
              "    .dataframe tbody tr th {\n",
              "        vertical-align: top;\n",
              "    }\n",
              "\n",
              "    .dataframe thead th {\n",
              "        text-align: right;\n",
              "    }\n",
              "</style>\n",
              "<table border=\"1\" class=\"dataframe\">\n",
              "  <thead>\n",
              "    <tr style=\"text-align: right;\">\n",
              "      <th></th>\n",
              "      <th>InvoiceNo</th>\n",
              "      <th>StockCode</th>\n",
              "      <th>Description</th>\n",
              "      <th>Quantity</th>\n",
              "      <th>InvoiceDate</th>\n",
              "      <th>UnitPrice</th>\n",
              "      <th>CustomerID</th>\n",
              "      <th>Country</th>\n",
              "    </tr>\n",
              "  </thead>\n",
              "  <tbody>\n",
              "    <tr>\n",
              "      <th>7313</th>\n",
              "      <td>537032</td>\n",
              "      <td>21275</td>\n",
              "      <td>?</td>\n",
              "      <td>-30</td>\n",
              "      <td>2010-12-03 16:50:00</td>\n",
              "      <td>0.0</td>\n",
              "      <td>15287</td>\n",
              "      <td>United Kingdom</td>\n",
              "    </tr>\n",
              "    <tr>\n",
              "      <th>21518</th>\n",
              "      <td>538090</td>\n",
              "      <td>20956</td>\n",
              "      <td>?</td>\n",
              "      <td>-723</td>\n",
              "      <td>2010-12-09 14:48:00</td>\n",
              "      <td>0.0</td>\n",
              "      <td>15287</td>\n",
              "      <td>United Kingdom</td>\n",
              "    </tr>\n",
              "    <tr>\n",
              "      <th>22295</th>\n",
              "      <td>538160</td>\n",
              "      <td>20956</td>\n",
              "      <td>?</td>\n",
              "      <td>288</td>\n",
              "      <td>2010-12-09 17:18:00</td>\n",
              "      <td>0.0</td>\n",
              "      <td>15287</td>\n",
              "      <td>United Kingdom</td>\n",
              "    </tr>\n",
              "    <tr>\n",
              "      <th>38261</th>\n",
              "      <td>539494</td>\n",
              "      <td>21479</td>\n",
              "      <td>?</td>\n",
              "      <td>752</td>\n",
              "      <td>2010-12-20 10:36:00</td>\n",
              "      <td>0.0</td>\n",
              "      <td>15287</td>\n",
              "      <td>United Kingdom</td>\n",
              "    </tr>\n",
              "    <tr>\n",
              "      <th>43662</th>\n",
              "      <td>540100</td>\n",
              "      <td>22837</td>\n",
              "      <td>?</td>\n",
              "      <td>-106</td>\n",
              "      <td>2011-01-04 16:53:00</td>\n",
              "      <td>0.0</td>\n",
              "      <td>15287</td>\n",
              "      <td>United Kingdom</td>\n",
              "    </tr>\n",
              "    <tr>\n",
              "      <th>...</th>\n",
              "      <td>...</td>\n",
              "      <td>...</td>\n",
              "      <td>...</td>\n",
              "      <td>...</td>\n",
              "      <td>...</td>\n",
              "      <td>...</td>\n",
              "      <td>...</td>\n",
              "      <td>...</td>\n",
              "    </tr>\n",
              "    <tr>\n",
              "      <th>514649</th>\n",
              "      <td>579734</td>\n",
              "      <td>84859C</td>\n",
              "      <td>wet?</td>\n",
              "      <td>-153</td>\n",
              "      <td>2011-11-30 14:25:00</td>\n",
              "      <td>0.0</td>\n",
              "      <td>15287</td>\n",
              "      <td>United Kingdom</td>\n",
              "    </tr>\n",
              "    <tr>\n",
              "      <th>514735</th>\n",
              "      <td>579742</td>\n",
              "      <td>85204</td>\n",
              "      <td>lost??</td>\n",
              "      <td>-1131</td>\n",
              "      <td>2011-11-30 14:34:00</td>\n",
              "      <td>0.0</td>\n",
              "      <td>15287</td>\n",
              "      <td>United Kingdom</td>\n",
              "    </tr>\n",
              "    <tr>\n",
              "      <th>524370</th>\n",
              "      <td>580547</td>\n",
              "      <td>21201</td>\n",
              "      <td>???</td>\n",
              "      <td>-390</td>\n",
              "      <td>2011-12-05 09:29:00</td>\n",
              "      <td>0.0</td>\n",
              "      <td>15287</td>\n",
              "      <td>United Kingdom</td>\n",
              "    </tr>\n",
              "    <tr>\n",
              "      <th>535324</th>\n",
              "      <td>581201</td>\n",
              "      <td>22217</td>\n",
              "      <td>damages?</td>\n",
              "      <td>-155</td>\n",
              "      <td>2011-12-07 18:30:00</td>\n",
              "      <td>0.0</td>\n",
              "      <td>15287</td>\n",
              "      <td>United Kingdom</td>\n",
              "    </tr>\n",
              "    <tr>\n",
              "      <th>535327</th>\n",
              "      <td>581204</td>\n",
              "      <td>85104</td>\n",
              "      <td>????damages????</td>\n",
              "      <td>-355</td>\n",
              "      <td>2011-12-07 18:32:00</td>\n",
              "      <td>0.0</td>\n",
              "      <td>15287</td>\n",
              "      <td>United Kingdom</td>\n",
              "    </tr>\n",
              "  </tbody>\n",
              "</table>\n",
              "<p>89 rows × 8 columns</p>\n",
              "</div>"
            ],
            "text/plain": [
              "       InvoiceNo StockCode      Description  Quantity          InvoiceDate  \\\n",
              "7313      537032     21275                ?       -30  2010-12-03 16:50:00   \n",
              "21518     538090     20956                ?      -723  2010-12-09 14:48:00   \n",
              "22295     538160     20956                ?       288  2010-12-09 17:18:00   \n",
              "38261     539494     21479                ?       752  2010-12-20 10:36:00   \n",
              "43662     540100     22837                ?      -106  2011-01-04 16:53:00   \n",
              "...          ...       ...              ...       ...                  ...   \n",
              "514649    579734    84859C             wet?      -153  2011-11-30 14:25:00   \n",
              "514735    579742     85204           lost??     -1131  2011-11-30 14:34:00   \n",
              "524370    580547     21201              ???      -390  2011-12-05 09:29:00   \n",
              "535324    581201     22217         damages?      -155  2011-12-07 18:30:00   \n",
              "535327    581204     85104  ????damages????      -355  2011-12-07 18:32:00   \n",
              "\n",
              "        UnitPrice  CustomerID         Country  \n",
              "7313          0.0       15287  United Kingdom  \n",
              "21518         0.0       15287  United Kingdom  \n",
              "22295         0.0       15287  United Kingdom  \n",
              "38261         0.0       15287  United Kingdom  \n",
              "43662         0.0       15287  United Kingdom  \n",
              "...           ...         ...             ...  \n",
              "514649        0.0       15287  United Kingdom  \n",
              "514735        0.0       15287  United Kingdom  \n",
              "524370        0.0       15287  United Kingdom  \n",
              "535324        0.0       15287  United Kingdom  \n",
              "535327        0.0       15287  United Kingdom  \n",
              "\n",
              "[89 rows x 8 columns]"
            ]
          },
          "execution_count": 19,
          "metadata": {},
          "output_type": "execute_result"
        }
      ],
      "source": [
        "#View rows with '?' in Description\n",
        "df_copy[df_copy['Description'].str.contains('\\?', na=False)]"
      ]
    },
    {
      "cell_type": "code",
      "execution_count": null,
      "metadata": {},
      "outputs": [],
      "source": [
        "#replace '?' in Description with an empty string\n",
        "\n",
        "df_copy['Description'] = df_copy['Description'].str.replace('?', '', regex=False)"
      ]
    },
    {
      "cell_type": "code",
      "execution_count": 75,
      "metadata": {},
      "outputs": [],
      "source": [
        "#Remove rows with negative or zero Quantity\n",
        "df_copy = df_copy[df_copy['Quantity'] > 0]\n",
        "\n",
        "#Remove rows with negative or zero UnitPrice\n",
        "df_copy = df_copy[df_copy['UnitPrice'] > 0]"
      ]
    },
    {
      "cell_type": "code",
      "execution_count": 27,
      "metadata": {},
      "outputs": [
        {
          "data": {
            "text/plain": [
              "15"
            ]
          },
          "execution_count": 27,
          "metadata": {},
          "output_type": "execute_result"
        }
      ],
      "source": [
        "df_copy['Description'].isnull().sum()"
      ]
    },
    {
      "cell_type": "code",
      "execution_count": 76,
      "metadata": {},
      "outputs": [
        {
          "name": "stderr",
          "output_type": "stream",
          "text": [
            "c:\\Users\\jeff .LAPTOP-IGU6VVPB\\Desktop\\Code institute\\vscode-projects\\hackathon 1\\retail_transaction_analysis\\.venv\\Lib\\site-packages\\feature_engine\\imputation\\categorical.py:232: FutureWarning: is_categorical_dtype is deprecated and will be removed in a future version. Use isinstance(dtype, CategoricalDtype) instead\n",
            "  if pd.api.types.is_categorical_dtype(X[variable]):\n"
          ]
        }
      ],
      "source": [
        "#Create a Pipline to replace the missing values in the Description column with 'Missing'\n",
        "from feature_engine.imputation import CategoricalImputer\n",
        "\n",
        "pipeline = Pipeline([\n",
        "      ('replace description',  CategoricalImputer(imputation_method='missing',\n",
        "                                                   fill_value='No Description',\n",
        "                                                   variables=['Description']) )\n",
        "])\n",
        "\n",
        "#Fit and transform the pipeline on the dataframe\n",
        "df_copy = pipeline.fit_transform(df_copy)"
      ]
    },
    {
      "cell_type": "code",
      "execution_count": 77,
      "metadata": {},
      "outputs": [
        {
          "data": {
            "text/plain": [
              "0"
            ]
          },
          "execution_count": 77,
          "metadata": {},
          "output_type": "execute_result"
        }
      ],
      "source": [
        "#Check if there are still any missing values in Description\n",
        "df_copy['Description'].isnull().sum()"
      ]
    },
    {
      "cell_type": "markdown",
      "metadata": {},
      "source": [
        "* We want to View Data types and then change to appropriate data types for analysis"
      ]
    },
    {
      "cell_type": "code",
      "execution_count": 34,
      "metadata": {},
      "outputs": [
        {
          "data": {
            "text/plain": [
              "InvoiceNo       object\n",
              "StockCode       object\n",
              "Description     object\n",
              "Quantity         int64\n",
              "InvoiceDate     object\n",
              "UnitPrice      float64\n",
              "CustomerID       int64\n",
              "Country         object\n",
              "dtype: object"
            ]
          },
          "execution_count": 34,
          "metadata": {},
          "output_type": "execute_result"
        }
      ],
      "source": [
        "df_copy.dtypes"
      ]
    },
    {
      "cell_type": "code",
      "execution_count": null,
      "metadata": {},
      "outputs": [],
      "source": [
        "#Convert InvoiceDate to datetime format and CustomerID to object type\n",
        "df_copy['InvoiceDate'] = pd.to_datetime(df_copy['InvoiceDate'])\n",
        "\n",
        "df_copy['CustomerID'] = df_copy['CustomerID'].astype(object)"
      ]
    },
    {
      "cell_type": "markdown",
      "metadata": {},
      "source": [
        "# Undertsnading the data"
      ]
    },
    {
      "cell_type": "markdown",
      "metadata": {},
      "source": [
        "* First we find out the Country with the Most Orders"
      ]
    },
    {
      "cell_type": "code",
      "execution_count": 78,
      "metadata": {},
      "outputs": [
        {
          "name": "stdout",
          "output_type": "stream",
          "text": [
            "Country\n",
            "United Kingdom    485123\n",
            "Germany             9040\n",
            "France              8407\n",
            "EIRE                7890\n",
            "Spain               2484\n",
            "Netherlands         2359\n",
            "Belgium             2031\n",
            "Switzerland         1966\n",
            "Portugal            1501\n",
            "Australia           1182\n",
            "Name: count, dtype: int64\n"
          ]
        }
      ],
      "source": [
        "#print the Top 10 Countries with most orders\n",
        "top_customers_country = df_copy['Country'].value_counts().head(10)\n",
        "print(top_customers_country)"
      ]
    },
    {
      "cell_type": "code",
      "execution_count": 248,
      "metadata": {},
      "outputs": [
        {
          "data": {
            "image/png": "[encoded data removed]",
            "text/plain": [
              "<Figure size 400x200 with 1 Axes>"
            ]
          },
          "metadata": {},
          "output_type": "display_data"
        }
      ],
      "source": [
        "top_countries = df_copy['Country'].value_counts().head(10)\n",
        "plt.figure(figsize=(4,2))\n",
        "top_countries.plot(kind='bar')\n",
        "plt.title('Top 10 Countries by Number of Orders')\n",
        "plt.xlabel('Country')\n",
        "plt.ylabel('Order Count')\n",
        "plt.show()"
      ]
    },
    {
      "cell_type": "markdown",
      "metadata": {},
      "source": [
        "* We check for Top Items customers are purchasing"
      ]
    },
    {
      "cell_type": "code",
      "execution_count": 249,
      "metadata": {},
      "outputs": [
        {
          "name": "stdout",
          "output_type": "stream",
          "text": [
            "StockCode: 85123A | Count: 2265\n",
            "Descriptions: ['WHITE HANGING HEART T-LIGHT HOLDER' 'CREAM HANGING HEART T-LIGHT HOLDER']\n",
            "---\n",
            "StockCode: 85099B | Count: 2112\n",
            "Descriptions: ['JUMBO BAG RED RETROSPOT']\n",
            "---\n",
            "StockCode: 22423 | Count: 2017\n",
            "Descriptions: ['REGENCY CAKESTAND 3 TIER']\n",
            "---\n",
            "StockCode: 47566 | Count: 1706\n",
            "Descriptions: ['PARTY BUNTING']\n",
            "---\n",
            "StockCode: 20725 | Count: 1595\n",
            "Descriptions: ['LUNCH BAG RED RETROSPOT' 'LUNCH BAG RED SPOTTY']\n",
            "---\n",
            "StockCode: 84879 | Count: 1489\n",
            "Descriptions: ['ASSORTED COLOUR BIRD ORNAMENT']\n",
            "---\n",
            "StockCode: 22197 | Count: 1426\n",
            "Descriptions: ['SMALL POPCORN HOLDER' 'POPCORN HOLDER']\n",
            "---\n",
            "StockCode: 22720 | Count: 1399\n",
            "Descriptions: ['SET OF 3 CAKE TINS PANTRY DESIGN ']\n",
            "---\n",
            "StockCode: 21212 | Count: 1370\n",
            "Descriptions: ['PACK OF 72 RETROSPOT CAKE CASES']\n",
            "---\n",
            "StockCode: 20727 | Count: 1328\n",
            "Descriptions: ['LUNCH BAG  BLACK SKULL.']\n",
            "---\n"
          ]
        }
      ],
      "source": [
        "# Print descriptions and count for top 10 StockCodes\n",
        "\n",
        "top_stockcodes = df_copy['StockCode'].value_counts().head(10).index\n",
        "\n",
        "for code in top_stockcodes:\n",
        "    count = df_copy[df_copy['StockCode'] == code].shape[0]\n",
        "    descriptions = df_copy[df_copy['StockCode'] == code]['Description'].unique()\n",
        "    print(f\"StockCode: {code} | Count: {count}\")\n",
        "    print(\"Descriptions:\", descriptions)\n",
        "    print(\"---\")"
      ]
    },
    {
      "cell_type": "code",
      "execution_count": 120,
      "metadata": {},
      "outputs": [
        {
          "data": {
            "image/png": "[encoded data removed]",
            "text/plain": [
              "<Figure size 600x400 with 1 Axes>"
            ]
          },
          "metadata": {},
          "output_type": "display_data"
        }
      ],
      "source": [
        "#horizontal bar chart of top 10 StockCodes by Quantity\n",
        "top_stockcodes_quantity = df_copy.groupby('StockCode')['Quantity'].sum().nlargest(10)\n",
        "plt.figure(figsize=(6, 4))  \n",
        "plt.show(top_stockcodes_quantity.plot(kind='barh'))\n"
      ]
    },
    {
      "cell_type": "code",
      "execution_count": 127,
      "metadata": {},
      "outputs": [
        {
          "name": "stdout",
          "output_type": "stream",
          "text": [
            "Month\n",
            "1     34306\n",
            "2     27105\n",
            "3     35803\n",
            "4     29096\n",
            "5     36164\n",
            "6     35977\n",
            "7     38645\n",
            "8     34483\n",
            "9     49261\n",
            "10    59304\n",
            "11    83369\n",
            "12    66591\n",
            "Name: count, dtype: int64\n"
          ]
        }
      ],
      "source": [
        "# Extract month from InvoiceDate and count purchases per month\n",
        "\n",
        "df_copy['Month'] = df_copy['InvoiceDate'].dt.month\n",
        "monthly_purchases = df_copy['Month'].value_counts().sort_index()\n",
        "print(monthly_purchases)"
      ]
    },
    {
      "cell_type": "code",
      "execution_count": 126,
      "metadata": {},
      "outputs": [
        {
          "data": {
            "image/png": "[encoded data removed]",
            "text/plain": [
              "<Figure size 500x300 with 1 Axes>"
            ]
          },
          "metadata": {},
          "output_type": "display_data"
        }
      ],
      "source": [
        "# line chart of monthly purchases\n",
        "plt.figure(figsize=(5,3)) \n",
        "plt.show(monthly_purchases.plot(kind='line', marker='o'))   "
      ]
    },
    {
      "cell_type": "markdown",
      "metadata": {},
      "source": [
        "We can see that customers tend to make more purchases in the 4th quater of the year with Novemeber being the peak month"
      ]
    },
    {
      "cell_type": "markdown",
      "metadata": {},
      "source": [
        "---"
      ]
    },
    {
      "cell_type": "markdown",
      "metadata": {},
      "source": [
        "# Price Optimization"
      ]
    },
    {
      "cell_type": "markdown",
      "metadata": {},
      "source": [
        "* Key Value Items drive perception (if KVIs look cheap, customers may believe the store is generally affordable), so we keep them competetive and leave the price as it is."
      ]
    },
    {
      "cell_type": "code",
      "execution_count": 79,
      "metadata": {},
      "outputs": [
        {
          "name": "stdout",
          "output_type": "stream",
          "text": [
            "     StockCode  UnitPrice  Quantity\n",
            "2465     23843   2.080000     80995\n",
            "2020     23166   1.468480     78033\n",
            "1109     22197   1.042468     56921\n",
            "2909     84077   0.320670     55047\n",
            "3387    85099B   2.485459     48474\n",
            "3407    85123A   3.116949     37660\n",
            "3194     84879   1.722290     36461\n",
            "439      21212   0.758431     36419\n",
            "1942     23084   2.380502     30788\n",
            "1374     22492   0.785026     26633\n"
          ]
        }
      ],
      "source": [
        "  #identify key value items in the dataset\n",
        "key_value_items = df_copy.groupby('StockCode').agg({'UnitPrice': 'mean', 'Quantity': 'sum'}).reset_index()\n",
        "key_value_items = key_value_items.sort_values(by='Quantity', ascending=False).head(10)\n",
        "print(key_value_items)\n"
      ]
    },
    {
      "cell_type": "markdown",
      "metadata": {},
      "source": [
        "* We can increase the price of Non Key Value items with low price sensitivity "
      ]
    },
    {
      "cell_type": "code",
      "execution_count": 82,
      "metadata": {},
      "outputs": [
        {
          "name": "stdout",
          "output_type": "stream",
          "text": [
            "     StockCode  UnitPrice  Quantity\n",
            "2465     23843   2.080000     80995\n",
            "2020     23166   1.468480     78033\n",
            "1109     22197   1.042468     56921\n",
            "2909     84077   0.320670     55047\n",
            "3387    85099B   2.485459     48474\n",
            "3407    85123A   3.116949     37660\n",
            "3194     84879   1.722290     36461\n",
            "439      21212   0.758431     36419\n",
            "1942     23084   2.380502     30788\n",
            "1374     22492   0.785026     26633\n"
          ]
        }
      ],
      "source": [
        "\n",
        "#find top stockcodes with low price sensitivity\n",
        "low_price_sensitivity = df_copy.groupby('StockCode').agg({'UnitPrice': 'mean', 'Quantity': 'sum'}).reset_index()\n",
        "low_price_sensitivity = low_price_sensitivity.sort_values(by='Quantity', ascending=False).head(10)\n",
        "print(low_price_sensitivity)"
      ]
    },
    {
      "cell_type": "markdown",
      "metadata": {},
      "source": [
        "* We can check for price elasticity "
      ]
    },
    {
      "cell_type": "code",
      "execution_count": 257,
      "metadata": {},
      "outputs": [],
      "source": [
        "\n",
        "# 0) Prep\n",
        "df_copy['InvoiceDate'] = pd.to_datetime(df_copy['InvoiceDate'], errors='coerce')\n",
        "df_copy = df_copy[df_copy['UnitPrice'] > 0]           # keep valid prices\n",
        "df_copy['Year'] = df_copy['InvoiceDate'].dt.year\n"
      ]
    },
    {
      "cell_type": "code",
      "execution_count": 258,
      "metadata": {},
      "outputs": [],
      "source": [
        "# 1) Yearly price & demand per product (ignore returns so demand isn't negative)\n",
        "yearly = (df_copy.assign(Quantity=df2['Quantity'].clip(lower=0))\n",
        "            .groupby(['StockCode', 'Year'], as_index=False)\n",
        "            .agg(UnitPrice=('UnitPrice', 'mean'),\n",
        "                 Quantity=('Quantity', 'sum'))\n",
        "            .sort_values(['StockCode', 'Year']))\n"
      ]
    },
    {
      "cell_type": "code",
      "execution_count": 259,
      "metadata": {},
      "outputs": [],
      "source": [
        "# 2) YoY % changes within each product\n",
        "yearly['PriceChange'] = yearly.groupby('StockCode')['UnitPrice'].pct_change()\n",
        "yearly['QtyChange']   = yearly.groupby('StockCode')['Quantity'].pct_change()\n",
        "\n"
      ]
    },
    {
      "cell_type": "code",
      "execution_count": 261,
      "metadata": {},
      "outputs": [
        {
          "name": "stdout",
          "output_type": "stream",
          "text": [
            "     StockCode  PriceElasticity\n",
            "2904     22645     48681.851774\n",
            "5502     84978     38447.584785\n",
            "4424    46776B     33864.187500\n",
            "2332     22335     29200.876001\n",
            "6188     90086      9605.357576\n",
            "...        ...              ...\n",
            "3550     22986    -41275.850000\n",
            "3502     22959    -51861.600000\n",
            "4463     47422    -86583.000000\n",
            "90      16161P   -105607.320000\n",
            "4432    46776F   -240812.000000\n",
            "\n",
            "[2563 rows x 2 columns]\n"
          ]
        }
      ],
      "source": [
        "# 3) Elasticity = (%ΔQ) / (%ΔP), guard against zero/near-zero price moves\n",
        "eps = 1e-9\n",
        "yearly.loc[yearly['PriceChange'].abs() < eps, 'PriceChange'] = np.nan\n",
        "yearly['PriceElasticity'] = yearly['QtyChange'] / yearly['PriceChange']\n",
        "yearly.replace([np.inf, -np.inf], np.nan, inplace=True)\n",
        "\n",
        "# ---- Output 1: yearly elasticity per StockCode ----\n",
        "print(yearly[['StockCode', 'PriceElasticity']].dropna().sort_values(by='PriceElasticity', ascending=False))"
      ]
    },
    {
      "cell_type": "markdown",
      "metadata": {},
      "source": [
        "* View Items with High Price Elasticicty\n",
        "* We can make a slight decrease in Price of this to make more sales which should increase Revenue significantly"
      ]
    },
    {
      "cell_type": "code",
      "execution_count": 253,
      "metadata": {},
      "outputs": [
        {
          "name": "stdout",
          "output_type": "stream",
          "text": [
            "     StockCode  Year   UnitPrice  Quantity  PriceChange   QtyChange  \\\n",
            "23       15036  2011    1.068609     23665     0.018144  145.987578   \n",
            "25       15039  2011    1.241915      2071     0.057849  102.550000   \n",
            "27      15044A  2011    3.670000       458     0.244068   75.333333   \n",
            "47      15058A  2011    9.223295       199     0.160163  198.000000   \n",
            "49      15058B  2011    9.911146       227     0.246685  226.000000   \n",
            "...        ...   ...         ...       ...          ...         ...   \n",
            "6540    90214A  2011    0.909216       119     0.069666    9.818182   \n",
            "6548    90214E  2011    0.850870        61     0.001023    4.545455   \n",
            "6554    90214H  2011    0.856087        40     0.007161    4.000000   \n",
            "6603         M  2011  248.232664      7023     2.355927   33.940299   \n",
            "6606      POST  2011   31.728089      2930     0.565611   12.318182   \n",
            "\n",
            "      PriceElasticity  \n",
            "23        8045.907948  \n",
            "25        1772.714254  \n",
            "27         308.657407  \n",
            "47        1236.240964  \n",
            "49         916.148085  \n",
            "...               ...  \n",
            "6540       140.933173  \n",
            "6548      4443.181818  \n",
            "6554       558.571429  \n",
            "6603        14.406347  \n",
            "6606        21.778534  \n",
            "\n",
            "[493 rows x 7 columns]\n"
          ]
        }
      ],
      "source": [
        "#print stock codes with price elasticity greater than 5\n",
        "high_items = yearly[yearly['PriceElasticity'] > 5]\n",
        "print(high_items)\n"
      ]
    },
    {
      "cell_type": "code",
      "execution_count": 254,
      "metadata": {},
      "outputs": [
        {
          "data": {
            "text/plain": [
              "<Figure size 1000x600 with 0 Axes>"
            ]
          },
          "metadata": {},
          "output_type": "display_data"
        },
        {
          "data": {
            "image/png": "[encoded data removed]",
            "text/plain": [
              "<Figure size 640x480 with 1 Axes>"
            ]
          },
          "metadata": {},
          "output_type": "display_data"
        }
      ],
      "source": [
        "#plot scatter plot of high price elasticity items\n",
        "plt.figure(figsize=(10, 6))\n",
        "plt.show(high_items.plot.scatter(x='UnitPrice', y='Quantity', title='Price vs Quantity for High Price Elasticity Items'))\n"
      ]
    },
    {
      "cell_type": "markdown",
      "metadata": {},
      "source": [
        "* View Items with low Elasticicty\n",
        "* We can make a slight increase in Items with low elasticity which would not have too much impact in sales and will increase revenue"
      ]
    },
    {
      "cell_type": "code",
      "execution_count": 255,
      "metadata": {},
      "outputs": [
        {
          "name": "stdout",
          "output_type": "stream",
          "text": [
            "         StockCode  Year   UnitPrice  Quantity  PriceChange  QtyChange  \\\n",
            "1            10002  2011    1.002927       609    -0.164924   1.426295   \n",
            "12           10125  2011    0.847711      1142    -0.107673   6.415584   \n",
            "14           10133  2011    0.636667      2737    -0.219133  20.053846   \n",
            "16           10135  2011    1.390000      1820    -0.080452   3.428224   \n",
            "18           11001  2011    1.830865      1541    -0.252431  19.824324   \n",
            "...            ...   ...         ...       ...          ...        ...   \n",
            "6591            C2  2011   49.106870       132    -0.181552  12.200000   \n",
            "6593      DCGS0003  2011    2.460000         2    -0.019920   0.000000   \n",
            "6601           DOT  2011  278.493221       652    -0.390437  11.074074   \n",
            "6612  gift_0001_40  2011   33.330000         2    -0.020858   1.000000   \n",
            "6614  gift_0001_50  2011   41.670000         3    -0.020682   2.000000   \n",
            "\n",
            "      PriceElasticity  \n",
            "1           -8.648219  \n",
            "12         -59.584079  \n",
            "14         -91.514380  \n",
            "16         -42.611822  \n",
            "18         -78.533756  \n",
            "...               ...  \n",
            "6591       -67.198318  \n",
            "6593        -0.000000  \n",
            "6601       -28.363249  \n",
            "6612       -47.943662  \n",
            "6614       -96.704545  \n",
            "\n",
            "[2070 rows x 7 columns]\n"
          ]
        }
      ],
      "source": [
        "#print stock codes with low elasticity less than 5\n",
        "low_items = yearly[yearly['PriceElasticity'] < 5]\n",
        "print(low_items)"
      ]
    },
    {
      "cell_type": "code",
      "execution_count": 256,
      "metadata": {},
      "outputs": [
        {
          "data": {
            "text/plain": [
              "<Figure size 1000x600 with 0 Axes>"
            ]
          },
          "metadata": {},
          "output_type": "display_data"
        },
        {
          "data": {
            "image/png": "[encoded data removed]",
            "text/plain": [
              "<Figure size 640x480 with 1 Axes>"
            ]
          },
          "metadata": {},
          "output_type": "display_data"
        }
      ],
      "source": [
        "#scatter plot of low price elasticity items\n",
        "plt.figure(figsize=(10, 6)) \n",
        "plt.show(low_items.plot.scatter(x='UnitPrice', y='Quantity', title='Price vs Quantity for Low Price Elasticity Items'))"
      ]
    },
    {
      "cell_type": "markdown",
      "metadata": {},
      "source": [
        "---"
      ]
    },
    {
      "cell_type": "markdown",
      "metadata": {},
      "source": [
        "# Marketing strategies"
      ]
    },
    {
      "cell_type": "markdown",
      "metadata": {},
      "source": [
        "* We check which Countries it will be beneficial to focus marketing on \n"
      ]
    },
    {
      "cell_type": "code",
      "execution_count": 128,
      "metadata": {},
      "outputs": [
        {
          "data": {
            "image/png": "[encoded data removed]",
            "text/plain": [
              "<Figure size 400x200 with 1 Axes>"
            ]
          },
          "metadata": {},
          "output_type": "display_data"
        }
      ],
      "source": [
        "top_countries = df_copy['Country'].value_counts().head(10)\n",
        "plt.figure(figsize=(4,2))\n",
        "top_countries.plot(kind='bar')\n",
        "plt.title('Top 10 Countries by Number of Orders')\n",
        "plt.xlabel('Country')\n",
        "plt.ylabel('Order Count')\n",
        "plt.show()"
      ]
    },
    {
      "cell_type": "markdown",
      "metadata": {},
      "source": [
        "* EMERGING MARKETS"
      ]
    },
    {
      "cell_type": "markdown",
      "metadata": {},
      "source": [
        "* We can see there is a large Increase in orders from 2010 to 2011"
      ]
    },
    {
      "cell_type": "code",
      "execution_count": 151,
      "metadata": {},
      "outputs": [
        {
          "name": "stdout",
          "output_type": "stream",
          "text": [
            "Number of orders in 2010: 41480\n"
          ]
        }
      ],
      "source": [
        "#count number of rows where year is 2010\n",
        "count_2010 = df_copy[df_copy['InvoiceDate'].dt.year == 2010].shape[0]\n",
        "print(f\"Number of orders in 2010: {count_2010}\")"
      ]
    },
    {
      "cell_type": "code",
      "execution_count": 138,
      "metadata": {},
      "outputs": [
        {
          "name": "stdout",
          "output_type": "stream",
          "text": [
            "Number of orders in 2011: 488624\n"
          ]
        }
      ],
      "source": [
        "#count number of rows where year is 2011\n",
        "count_2011 = df_copy[df_copy['InvoiceDate'].dt.year == 2011].shape[0]\n",
        "print(f\"Number of orders in 2011: {count_2011}\")"
      ]
    },
    {
      "cell_type": "markdown",
      "metadata": {},
      "source": [
        "*We check for Countries and their Order counts for both years"
      ]
    },
    {
      "cell_type": "code",
      "execution_count": 150,
      "metadata": {},
      "outputs": [
        {
          "name": "stdout",
          "output_type": "stream",
          "text": [
            "            Country  OrderCount\n",
            "22   United Kingdom       39224\n",
            "10          Germany         512\n",
            "9            France         434\n",
            "7              EIRE         373\n",
            "16           Norway         147\n",
            "18         Portugal         116\n",
            "3           Belgium          95\n",
            "5            Cyprus          83\n",
            "19            Spain          75\n",
            "15      Netherlands          72\n",
            "13            Japan          65\n",
            "21      Switzerland          49\n",
            "12            Italy          40\n",
            "14        Lithuania          35\n",
            "0         Australia          32\n",
            "11          Iceland          31\n",
            "20           Sweden          26\n",
            "6           Denmark          20\n",
            "8           Finland          17\n",
            "4   Channel Islands          17\n",
            "1           Austria           8\n",
            "17           Poland           8\n",
            "2           Bahrain           1\n"
          ]
        }
      ],
      "source": [
        "country_order_count_2010 = df_copy[df_copy['InvoiceDate'].dt.year == 2010].groupby('Country').size().reset_index(name='OrderCount')\n",
        "country_order_count_2010 = country_order_count_2010.sort_values(by='OrderCount', ascending=False)\n",
        "print(country_order_count_2010)"
      ]
    },
    {
      "cell_type": "code",
      "execution_count": 142,
      "metadata": {},
      "outputs": [
        {
          "name": "stdout",
          "output_type": "stream",
          "text": [
            "                 Country  OrderCount\n",
            "35        United Kingdom      445899\n",
            "14               Germany        8528\n",
            "13                France        7973\n",
            "10                  EIRE        7517\n",
            "30                 Spain        2409\n",
            "23           Netherlands        2287\n",
            "3                Belgium        1936\n",
            "32           Switzerland        1917\n",
            "26              Portugal        1385\n",
            "0              Australia        1150\n",
            "24                Norway         924\n",
            "6        Channel Islands         731\n",
            "19                 Italy         718\n",
            "12               Finland         668\n",
            "7                 Cyprus         531\n",
            "36           Unspecified         446\n",
            "31                Sweden         425\n",
            "1                Austria         390\n",
            "9                Denmark         360\n",
            "25                Poland         322\n",
            "18                Israel         295\n",
            "16             Hong Kong         284\n",
            "20                 Japan         256\n",
            "29             Singapore         222\n",
            "33                   USA         179\n",
            "17               Iceland         151\n",
            "5                 Canada         151\n",
            "15                Greece         145\n",
            "22                 Malta         112\n",
            "34  United Arab Emirates          68\n",
            "11    European Community          60\n",
            "27                   RSA          57\n",
            "21               Lebanon          45\n",
            "4                 Brazil          32\n",
            "8         Czech Republic          25\n",
            "2                Bahrain          17\n",
            "28          Saudi Arabia           9\n"
          ]
        }
      ],
      "source": [
        "#count number of orders in 2011 for each country and sort by OrderCount\n",
        "country_order_count_2011 = df_copy[df_copy['InvoiceDate'].dt.year == 2011].groupby('Country').size().reset_index(name='OrderCount')\n",
        "country_order_count_2011 = country_order_count_2011.sort_values(by='OrderCount', ascending=False)\n",
        "print(country_order_count_2011)\n"
      ]
    },
    {
      "cell_type": "markdown",
      "metadata": {},
      "source": [
        "*Then We Calculate the percentage Increase from 2010 to 2011 to find emerging markets "
      ]
    },
    {
      "cell_type": "code",
      "execution_count": 172,
      "metadata": {},
      "outputs": [
        {
          "name": "stdout",
          "output_type": "stream",
          "text": [
            "                 Country  OrderCount_2010  OrderCount_2011  PercentageIncrease\n",
            "1                Austria              8.0            390.0                4775\n",
            "4        Channel Islands             17.0            731.0                4200\n",
            "17                Poland              8.0            322.0                3925\n",
            "8                Finland             17.0            668.0                3829\n",
            "21           Switzerland             49.0           1917.0                3812\n",
            "0              Australia             32.0           1150.0                3494\n",
            "19                 Spain             75.0           2409.0                3112\n",
            "15           Netherlands             72.0           2287.0                3076\n",
            "3                Belgium             95.0           1936.0                1938\n",
            "7                   EIRE            373.0           7517.0                1915\n",
            "9                 France            434.0           7973.0                1737\n",
            "6                Denmark             20.0            360.0                1700\n",
            "12                 Italy             40.0            718.0                1695\n",
            "2                Bahrain              1.0             17.0                1600\n",
            "10               Germany            512.0           8528.0                1566\n",
            "20                Sweden             26.0            425.0                1535\n",
            "18              Portugal            116.0           1385.0                1094\n",
            "22        United Kingdom          39224.0         445899.0                1037\n",
            "5                 Cyprus             83.0            531.0                 540\n",
            "16                Norway            147.0            924.0                 529\n",
            "11               Iceland             31.0            151.0                 387\n",
            "13                 Japan             65.0            256.0                 294\n",
            "14             Lithuania             35.0              0.0                -100\n",
            "23                Brazil              0.0             32.0                <NA>\n",
            "24                Canada              0.0            151.0                <NA>\n",
            "25        Czech Republic              0.0             25.0                <NA>\n",
            "26    European Community              0.0             60.0                <NA>\n",
            "27                Greece              0.0            145.0                <NA>\n",
            "28             Hong Kong              0.0            284.0                <NA>\n",
            "29                Israel              0.0            295.0                <NA>\n",
            "30               Lebanon              0.0             45.0                <NA>\n",
            "31                 Malta              0.0            112.0                <NA>\n",
            "32                   RSA              0.0             57.0                <NA>\n",
            "33          Saudi Arabia              0.0              9.0                <NA>\n",
            "34             Singapore              0.0            222.0                <NA>\n",
            "35                   USA              0.0            179.0                <NA>\n",
            "36  United Arab Emirates              0.0             68.0                <NA>\n",
            "37           Unspecified              0.0            446.0                <NA>\n"
          ]
        }
      ],
      "source": [
        "# Calculate percentage increase in orders per Country from 2010 to 2011 and round to whole number\n",
        "\n",
        "orders_2010 = df_copy[df_copy['InvoiceDate'].dt.year == 2010].groupby('Country').size().reset_index(name='OrderCount_2010')\n",
        "orders_2011 = df_copy[df_copy['InvoiceDate'].dt.year == 2011].groupby('Country').size().reset_index(name='OrderCount_2011')\n",
        "\n",
        "orders = pd.merge(orders_2010, orders_2011, on='Country', how='outer').fillna(0)\n",
        "\n",
        "num = orders['OrderCount_2011'] - orders['OrderCount_2010']\n",
        "den = orders['OrderCount_2010'].replace(0, pd.NA)  # avoid div-by-zero → NA\n",
        "\n",
        "# keep as nullable float, then round, then cast to nullable int\n",
        "orders['PercentageIncrease'] = (num / den * 100).astype('Float64')\n",
        "orders['PercentageIncrease'] = orders['PercentageIncrease'].round(0).astype('Int64')\n",
        "\n",
        "print(orders[['Country','OrderCount_2010','OrderCount_2011','PercentageIncrease']].sort_values(by='PercentageIncrease', ascending=False))"
      ]
    },
    {
      "cell_type": "code",
      "execution_count": 186,
      "metadata": {},
      "outputs": [
        {
          "data": {
            "text/plain": [
              "<Figure size 1000x1000 with 0 Axes>"
            ]
          },
          "metadata": {},
          "output_type": "display_data"
        },
        {
          "data": {
            "image/png": "[encoded data removed]",
            "text/plain": [
              "<Figure size 640x480 with 1 Axes>"
            ]
          },
          "metadata": {},
          "output_type": "display_data"
        }
      ],
      "source": [
        "# Plot a horizontal bar chart of Percentage Increase in Orders by Country for top 25 countries\n",
        "plt.figure(figsize=(10, 10)) \n",
        "plt.show(orders.head(25).sort_values(by='PercentageIncrease', ascending=False).plot(kind='barh', x='Country', y='PercentageIncrease', legend=False)) "
      ]
    },
    {
      "cell_type": "markdown",
      "metadata": {},
      "source": [
        "* From the table and chart, we can see that Markets like Austria, Channel Islands, Poland, Finland, Switzerland have a higher percentage increase in Orders from 2010 to 2012, while UK has a by far a conistent higher order count.\n",
        "\n",
        "* Thus, we can recommend a 70:30 split in mraeting budget, with 70 going to Top order markets and 30 percent to high growth markets. \n"
      ]
    },
    {
      "cell_type": "markdown",
      "metadata": {},
      "source": [
        "* Increase marketing in the 4th Quater of the Year as that is the highest sales period"
      ]
    },
    {
      "cell_type": "code",
      "execution_count": 229,
      "metadata": {},
      "outputs": [
        {
          "data": {
            "image/png": "[encoded data removed]",
            "text/plain": [
              "<Figure size 500x300 with 1 Axes>"
            ]
          },
          "metadata": {},
          "output_type": "display_data"
        }
      ],
      "source": [
        "# line chart of monthly purchases\n",
        "plt.figure(figsize=(5,3)) \n",
        "plt.show(monthly_purchases.plot(kind='line', marker='o'))   "
      ]
    },
    {
      "cell_type": "markdown",
      "metadata": {
        "id": "ltNetd085qHf"
      },
      "source": [
        "# Push files to Repo"
      ]
    },
    {
      "cell_type": "markdown",
      "metadata": {},
      "source": [
        "* In cases where you don't need to push files to Repo, you may replace this section with \"Conclusions and Next Steps\" and state your conclusions and next steps."
      ]
    },
    {
      "cell_type": "markdown",
      "metadata": {},
      "source": [
        "# Section 2"
      ]
    },
    {
      "cell_type": "markdown",
      "metadata": {},
      "source": [
        "Section 2 content"
      ]
    },
    {
      "cell_type": "code",
      "execution_count": null,
      "metadata": {},
      "outputs": [],
      "source": []
    },
    {
      "cell_type": "markdown",
      "metadata": {},
      "source": [
        "---"
      ]
    },
    {
      "cell_type": "markdown",
      "metadata": {},
      "source": [
        "NOTE"
      ]
    },
    {
      "cell_type": "markdown",
      "metadata": {},
      "source": [
        "* You may add as many sections as you want, as long as it supports your project workflow.\n",
        "* All notebook's cells should be run top-down (you can't create a dynamic wherein a given point you need to go back to a previous cell to execute some task, like go back to a previous cell and refresh a variable content)"
      ]
    },
    {
      "cell_type": "markdown",
      "metadata": {},
      "source": [
        "---"
      ]
    },
    {
      "cell_type": "code",
      "execution_count": null,
      "metadata": {
        "id": "aKlnIozA4eQO",
        "outputId": "fd09bc1f-adb1-4511-f6ce-492a6af570c0"
      },
      "outputs": [],
      "source": [
        "import os\n",
        "try:\n",
        "  # create your folder here\n",
        "  # os.makedirs(name='')\n",
        "except Exception as e:\n",
        "  print(e)\n"
      ]
    }
  ],
  "metadata": {
    "accelerator": "GPU",
    "colab": {
      "name": "Data Practitioner Jupyter Notebook.ipynb",
      "provenance": [],
      "toc_visible": true
    },
    "kernelspec": {
      "display_name": ".venv (3.12.8)",
      "language": "python",
      "name": "python3"
    },
    "language_info": {
      "codemirror_mode": {
        "name": "ipython",
        "version": 3
      },
      "file_extension": ".py",
      "mimetype": "text/x-python",
      "name": "python",
      "nbconvert_exporter": "python",
      "pygments_lexer": "ipython3",
      "version": "3.12.8"
    },
    "orig_nbformat": 2
  },
  "nbformat": 4,
  "nbformat_minor": 2
}
